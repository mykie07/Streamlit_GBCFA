{
 "cells": [
  {
   "cell_type": "code",
   "execution_count": 1,
   "metadata": {},
   "outputs": [],
   "source": [
    "import py2neo\n",
    "from py2neo import Node, Relationship, Graph, NodeMatcher\n",
    "import pandas as pd\n",
    "import time\n",
    "import numpy as np"
   ]
  },
  {
   "cell_type": "code",
   "execution_count": 2,
   "metadata": {},
   "outputs": [],
   "source": [
    "from absapi_aspect_class_prediction_engine import *"
   ]
  },
  {
   "cell_type": "code",
   "execution_count": 3,
   "metadata": {},
   "outputs": [
    {
     "name": "stdout",
     "output_type": "stream",
     "text": [
      "absapi_aspect_class_prediction_engine.py loaded\n"
     ]
    }
   ],
   "source": [
    "pred_engine()"
   ]
  },
  {
   "cell_type": "code",
   "execution_count": 4,
   "metadata": {
    "scrolled": true
   },
   "outputs": [
    {
     "data": {
      "text/html": [
       "<div>\n",
       "<style scoped>\n",
       "    .dataframe tbody tr th:only-of-type {\n",
       "        vertical-align: middle;\n",
       "    }\n",
       "\n",
       "    .dataframe tbody tr th {\n",
       "        vertical-align: top;\n",
       "    }\n",
       "\n",
       "    .dataframe thead th {\n",
       "        text-align: right;\n",
       "    }\n",
       "</style>\n",
       "<table border=\"1\" class=\"dataframe\">\n",
       "  <thead>\n",
       "    <tr style=\"text-align: right;\">\n",
       "      <th></th>\n",
       "      <th>index</th>\n",
       "      <th>review_id</th>\n",
       "      <th>sentence_no</th>\n",
       "      <th>sentence</th>\n",
       "      <th>keyword</th>\n",
       "      <th>polarity</th>\n",
       "      <th>aspect_class</th>\n",
       "    </tr>\n",
       "  </thead>\n",
       "  <tbody>\n",
       "    <tr>\n",
       "      <th>0</th>\n",
       "      <td>NaN</td>\n",
       "      <td>2456</td>\n",
       "      <td>2</td>\n",
       "      <td>i bought the chromebook thinking that i will b...</td>\n",
       "      <td>chromebook</td>\n",
       "      <td>-0.1589</td>\n",
       "      <td>LAPTOP</td>\n",
       "    </tr>\n",
       "    <tr>\n",
       "      <th>1</th>\n",
       "      <td>0.0</td>\n",
       "      <td>2456</td>\n",
       "      <td>2</td>\n",
       "      <td>i bought the chromebook thinking that i will b...</td>\n",
       "      <td>connect</td>\n",
       "      <td>-0.3178</td>\n",
       "      <td>CONNECTIVITY</td>\n",
       "    </tr>\n",
       "    <tr>\n",
       "      <th>2</th>\n",
       "      <td>1.0</td>\n",
       "      <td>2456</td>\n",
       "      <td>3</td>\n",
       "      <td>i could connect to citrix from my laptop, andr...</td>\n",
       "      <td>laptop</td>\n",
       "      <td>0.0000</td>\n",
       "      <td>LAPTOP</td>\n",
       "    </tr>\n",
       "    <tr>\n",
       "      <th>3</th>\n",
       "      <td>2.0</td>\n",
       "      <td>2456</td>\n",
       "      <td>3</td>\n",
       "      <td>i could connect to citrix from my laptop, andr...</td>\n",
       "      <td>chromebook</td>\n",
       "      <td>0.0000</td>\n",
       "      <td>LAPTOP</td>\n",
       "    </tr>\n",
       "    <tr>\n",
       "      <th>4</th>\n",
       "      <td>3.0</td>\n",
       "      <td>2456</td>\n",
       "      <td>3</td>\n",
       "      <td>i could connect to citrix from my laptop, andr...</td>\n",
       "      <td>connect</td>\n",
       "      <td>0.0000</td>\n",
       "      <td>CONNECTIVITY</td>\n",
       "    </tr>\n",
       "  </tbody>\n",
       "</table>\n",
       "</div>"
      ],
      "text/plain": [
       "   index  review_id  sentence_no  \\\n",
       "0    NaN       2456            2   \n",
       "1    0.0       2456            2   \n",
       "2    1.0       2456            3   \n",
       "3    2.0       2456            3   \n",
       "4    3.0       2456            3   \n",
       "\n",
       "                                            sentence     keyword  polarity  \\\n",
       "0  i bought the chromebook thinking that i will b...  chromebook   -0.1589   \n",
       "1  i bought the chromebook thinking that i will b...     connect   -0.3178   \n",
       "2  i could connect to citrix from my laptop, andr...      laptop    0.0000   \n",
       "3  i could connect to citrix from my laptop, andr...  chromebook    0.0000   \n",
       "4  i could connect to citrix from my laptop, andr...     connect    0.0000   \n",
       "\n",
       "   aspect_class  \n",
       "0        LAPTOP  \n",
       "1  CONNECTIVITY  \n",
       "2        LAPTOP  \n",
       "3        LAPTOP  \n",
       "4  CONNECTIVITY  "
      ]
     },
     "execution_count": 4,
     "metadata": {},
     "output_type": "execute_result"
    }
   ],
   "source": [
    "#panda version\n",
    "df=pd.read_csv(\"gbcfa_graphdata_with_aspects_clean.tsv\", sep='\\t',index_col = False, header=None, \n",
    "               names=[\"index\",\"review_id\",\"sentence_no\",\"sentence\",\"keyword\",\"polarity\",\"aspect_class\"])\n",
    "df.head() "
   ]
  },
  {
   "cell_type": "code",
   "execution_count": 5,
   "metadata": {},
   "outputs": [
    {
     "data": {
      "text/plain": [
       "15125"
      ]
     },
     "execution_count": 5,
     "metadata": {},
     "output_type": "execute_result"
    }
   ],
   "source": [
    "reviews_count=len( df[\"sentence_no\"].unique())\n",
    "# ((5000-reviews_count)/5000)*100\n",
    "#out of 5000 reviews \n",
    "reviews_count"
   ]
  },
  {
   "cell_type": "code",
   "execution_count": 6,
   "metadata": {},
   "outputs": [
    {
     "data": {
      "text/plain": [
       "21705"
      ]
     },
     "execution_count": 6,
     "metadata": {},
     "output_type": "execute_result"
    }
   ],
   "source": [
    "len(df)\n",
    "# .count()"
   ]
  },
  {
   "cell_type": "raw",
   "metadata": {},
   "source": [
    "34396 lines before word detector error was corrected in file creation code."
   ]
  },
  {
   "cell_type": "code",
   "execution_count": 7,
   "metadata": {},
   "outputs": [
    {
     "data": {
      "text/plain": [
       "array(['LAPTOP', 'CONNECTIVITY', 'OS', 'PERFORMANCE', 'DISPLAY',\n",
       "       'KEYBOARD', 'SUPPORT', 'BATTERY', 'FAN', 'HARDDRIVE', 'MULTIMEDIA',\n",
       "       'SHIPPING', 'CPU ', 'MEMORY', 'OPTICAL_DRIVE', 'CHARGER',\n",
       "       'MOTHERBOARD'], dtype=object)"
      ]
     },
     "execution_count": 7,
     "metadata": {},
     "output_type": "execute_result"
    }
   ],
   "source": [
    "aspect_classes = df[\"aspect_class\"].unique()\n",
    "aspect_classes"
   ]
  },
  {
   "cell_type": "code",
   "execution_count": 8,
   "metadata": {},
   "outputs": [
    {
     "name": "stdout",
     "output_type": "stream",
     "text": [
      "Number of keywords detected in dataset is : 92\n"
     ]
    }
   ],
   "source": [
    "#Number of keywords detected in dataset\n",
    "print(\"Number of keywords detected in dataset is :\",len(df[\"keyword\"].unique()))"
   ]
  },
  {
   "cell_type": "code",
   "execution_count": 9,
   "metadata": {},
   "outputs": [
    {
     "data": {
      "text/html": [
       "<div>\n",
       "<style scoped>\n",
       "    .dataframe tbody tr th:only-of-type {\n",
       "        vertical-align: middle;\n",
       "    }\n",
       "\n",
       "    .dataframe tbody tr th {\n",
       "        vertical-align: top;\n",
       "    }\n",
       "\n",
       "    .dataframe thead th {\n",
       "        text-align: right;\n",
       "    }\n",
       "</style>\n",
       "<table border=\"1\" class=\"dataframe\">\n",
       "  <thead>\n",
       "    <tr style=\"text-align: right;\">\n",
       "      <th></th>\n",
       "      <th>index</th>\n",
       "      <th>review_id</th>\n",
       "      <th>sentence_no</th>\n",
       "      <th>polarity</th>\n",
       "    </tr>\n",
       "  </thead>\n",
       "  <tbody>\n",
       "    <tr>\n",
       "      <th>count</th>\n",
       "      <td>21704.000000</td>\n",
       "      <td>21705.000000</td>\n",
       "      <td>21705.000000</td>\n",
       "      <td>21705.000000</td>\n",
       "    </tr>\n",
       "    <tr>\n",
       "      <th>mean</th>\n",
       "      <td>10851.500000</td>\n",
       "      <td>2174.482700</td>\n",
       "      <td>15345.883068</td>\n",
       "      <td>0.139321</td>\n",
       "    </tr>\n",
       "    <tr>\n",
       "      <th>std</th>\n",
       "      <td>6265.549457</td>\n",
       "      <td>1761.513683</td>\n",
       "      <td>8936.377415</td>\n",
       "      <td>0.274378</td>\n",
       "    </tr>\n",
       "    <tr>\n",
       "      <th>min</th>\n",
       "      <td>0.000000</td>\n",
       "      <td>0.000000</td>\n",
       "      <td>2.000000</td>\n",
       "      <td>-0.787600</td>\n",
       "    </tr>\n",
       "    <tr>\n",
       "      <th>25%</th>\n",
       "      <td>5425.750000</td>\n",
       "      <td>542.000000</td>\n",
       "      <td>7610.000000</td>\n",
       "      <td>0.000000</td>\n",
       "    </tr>\n",
       "    <tr>\n",
       "      <th>50%</th>\n",
       "      <td>10851.500000</td>\n",
       "      <td>1668.000000</td>\n",
       "      <td>15300.000000</td>\n",
       "      <td>0.022500</td>\n",
       "    </tr>\n",
       "    <tr>\n",
       "      <th>75%</th>\n",
       "      <td>16277.250000</td>\n",
       "      <td>4006.000000</td>\n",
       "      <td>22993.000000</td>\n",
       "      <td>0.360900</td>\n",
       "    </tr>\n",
       "    <tr>\n",
       "      <th>max</th>\n",
       "      <td>21703.000000</td>\n",
       "      <td>4999.000000</td>\n",
       "      <td>30991.000000</td>\n",
       "      <td>0.852908</td>\n",
       "    </tr>\n",
       "  </tbody>\n",
       "</table>\n",
       "</div>"
      ],
      "text/plain": [
       "              index     review_id   sentence_no      polarity\n",
       "count  21704.000000  21705.000000  21705.000000  21705.000000\n",
       "mean   10851.500000   2174.482700  15345.883068      0.139321\n",
       "std     6265.549457   1761.513683   8936.377415      0.274378\n",
       "min        0.000000      0.000000      2.000000     -0.787600\n",
       "25%     5425.750000    542.000000   7610.000000      0.000000\n",
       "50%    10851.500000   1668.000000  15300.000000      0.022500\n",
       "75%    16277.250000   4006.000000  22993.000000      0.360900\n",
       "max    21703.000000   4999.000000  30991.000000      0.852908"
      ]
     },
     "execution_count": 9,
     "metadata": {},
     "output_type": "execute_result"
    }
   ],
   "source": [
    "df.describe()"
   ]
  },
  {
   "cell_type": "raw",
   "metadata": {},
   "source": [
    "\tindex\treview_id\tsentence_no\tpolarity\n",
    "count\t34395.000000\t34396.000000\t34396.000000\t34396.000000\n",
    "mean\t17197.000000\t2175.264013\t15380.644755\t0.105294\n",
    "std\t9929.125591\t1774.623743\t8926.424402\t0.233225\n",
    "min\t0.000000\t0.000000\t1.000000\t-0.787600\n",
    "25%\t8598.500000\t536.000000\t7697.000000\t0.000000\n",
    "50%\t17197.000000\t1634.000000\t15366.500000\t0.000000\n",
    "75%\t25795.500000\t4084.000000\t23031.500000\t0.226667\n",
    "max\t34394.000000\t4999.000000\t30991.000000\t0.852908"
   ]
  },
  {
   "cell_type": "markdown",
   "metadata": {},
   "source": [
    "<H1>BUILD GRAPH</h1>"
   ]
  },
  {
   "cell_type": "code",
   "execution_count": 5,
   "metadata": {},
   "outputs": [],
   "source": [
    "#connect to neo4j\n",
    "G= Graph(\"bolt://localhost:7687\",password=\"gbcfa\")"
   ]
  },
  {
   "cell_type": "code",
   "execution_count": 6,
   "metadata": {},
   "outputs": [
    {
     "data": {
      "text/plain": [
       "[{'count(n)': 19437}]"
      ]
     },
     "execution_count": 6,
     "metadata": {},
     "output_type": "execute_result"
    }
   ],
   "source": [
    "G.run('''match(n) return count(n)''').data()"
   ]
  },
  {
   "cell_type": "code",
   "execution_count": 13,
   "metadata": {},
   "outputs": [],
   "source": [
    "#unique keywords\n",
    "# G.run('''\n",
    "\n",
    "# //Constraints creation for users and services\n",
    "# DROP CONSTRAINT ON (s:Review)\n",
    "#        ASSERT s.review_id IS UNIQUE;\n",
    "# ''')\n",
    "\n",
    "# G.run('''\n",
    "# DROP CONSTRAINT ON (u:Sentence)\n",
    "#        ASSERT u.number IS UNIQUE\n",
    "\n",
    "# ''')\n",
    "\n",
    "\n",
    "# G.run('''\n",
    "# DROP CONSTRAINT ON (u:Class)\n",
    "#        ASSERT u.name IS UNIQUE\n",
    "\n",
    "# ''')\n",
    "\n",
    "# G.run('''\n",
    "# DROP CONSTRAINT ON (u:Keyword)\n",
    "#        ASSERT u.keyword IS UNIQUE\n",
    "\n",
    "# ''')\n"
   ]
  },
  {
   "cell_type": "code",
   "execution_count": 14,
   "metadata": {},
   "outputs": [],
   "source": [
    "# create constraints\n",
    "# G.run('''\n",
    "\n",
    "# //Constraints creation for users and services\n",
    "# CREATE CONSTRAINT ON (s:Review)\n",
    "#        ASSERT s.review_id IS UNIQUE;\n",
    "# ''')\n",
    "\n",
    "# G.run('''\n",
    "# CREATE CONSTRAINT ON (u:Sentence)\n",
    "#        ASSERT u.number IS UNIQUE\n",
    "\n",
    "# ''')\n",
    "\n",
    "\n",
    "# G.run('''\n",
    "# CREATE CONSTRAINT ON (u:Class)\n",
    "#        ASSERT u.name IS UNIQUE\n",
    "\n",
    "# ''')\n",
    "\n",
    "# G.run('''\n",
    "# CREATE CONSTRAINT ON (u:Keyword)\n",
    "#        ASSERT u.keyword IS UNIQUE\n",
    "\n",
    "# ''')"
   ]
  },
  {
   "cell_type": "code",
   "execution_count": 15,
   "metadata": {},
   "outputs": [
    {
     "name": "stdout",
     "output_type": "stream",
     "text": [
      "Number of reviews created: 21705\n"
     ]
    }
   ],
   "source": [
    "# Create review nodes\n",
    "n=0\n",
    "# for rev in reviews.rdd.collect():\n",
    "for index, row in df.iterrows():    \n",
    "    n=n+1\n",
    "    review_id = row[\"review_id\"]\n",
    "    G.run('''\n",
    "    \n",
    "    MERGE (rev:Review{review_id:$review_id})\n",
    "    \n",
    "    ''',parameters={'review_id':review_id}) \n",
    "                    \n",
    "                    \n",
    "print(\"Number of reviews created:\", n)"
   ]
  },
  {
   "cell_type": "code",
   "execution_count": 16,
   "metadata": {},
   "outputs": [
    {
     "name": "stdout",
     "output_type": "stream",
     "text": [
      "Number of sentences created: 21705\n"
     ]
    }
   ],
   "source": [
    "# Create sentence nodes\n",
    "n=0\n",
    "\n",
    "# for row in df.rdd.collect():\n",
    "for index, row in df.iterrows():  \n",
    "    n = n+1\n",
    "    sentence_no =  row[\"sentence_no\"]\n",
    "        \n",
    "    sentence = row[\"sentence\"]\n",
    "\n",
    "    G.run(\n",
    "        '''\n",
    "    \n",
    "    MERGE (sent:Sentence{number:$sentence_no, text:$sentence})\n",
    "    \n",
    "    ''', parameters={'sentence_no':sentence_no, \"sentence\":sentence})\n",
    "                    \n",
    "                    \n",
    "print(\"Number of sentences created:\", n)"
   ]
  },
  {
   "cell_type": "code",
   "execution_count": 17,
   "metadata": {},
   "outputs": [
    {
     "name": "stdout",
     "output_type": "stream",
     "text": [
      "Number of classes created: 17\n"
     ]
    }
   ],
   "source": [
    "#Create Aspect Class nodes \n",
    "n=0\n",
    "# for cls in aspect_classes.rdd.collect():\n",
    "for cls in aspect_classes:\n",
    "#     print(cls)\n",
    "    \n",
    "#     CL = cls.aspect_class\n",
    "    n = n + 1\n",
    "    G.run(\n",
    "    '''\n",
    "    MERGE (class:Class{name:$class})\n",
    "    \n",
    "    ''', parameters={'class':cls}) \n",
    "print(\"Number of classes created:\", n)"
   ]
  },
  {
   "cell_type": "code",
   "execution_count": 18,
   "metadata": {},
   "outputs": [
    {
     "name": "stdout",
     "output_type": "stream",
     "text": [
      "Number of keywords created: 195\n"
     ]
    }
   ],
   "source": [
    "#Create keyword nodes\n",
    "# aspect_classes = lbs\n",
    "n=0\n",
    "\n",
    "for aspect_class in aspect_classes:\n",
    "    aspect_keywords=eval(aspect_class)\n",
    "#     print(aspect_keywords)\n",
    "    for keyword in aspect_keywords:\n",
    "        n = n + 1\n",
    "        G.run(\n",
    "        '''\n",
    "    \n",
    "    MERGE (key:Keyword{keyword:$keyword})\n",
    "    \n",
    "    ''', parameters={'keyword':keyword})\n",
    "                    \n",
    "                    \n",
    "print(\"Number of keywords created:\", n)\n",
    "        "
   ]
  },
  {
   "cell_type": "code",
   "execution_count": 19,
   "metadata": {},
   "outputs": [
    {
     "name": "stdout",
     "output_type": "stream",
     "text": [
      "Number of [:BELONG_TO ] relationships created: 195\n"
     ]
    }
   ],
   "source": [
    "#Create [:BELONGS_TO ] relationships between keywords and ASPECT classes\n",
    "aspect_classes = lbs\n",
    "n=0\n",
    "\n",
    "for aspect_class in aspect_classes:\n",
    "    aspect_keywords=eval(aspect_class)\n",
    "    for keyword in aspect_keywords:\n",
    "        n = n + 1\n",
    "        G.run(\n",
    "        '''\n",
    "    MATCH (key:Keyword{keyword:$keyword}),(class:Class{name:$class})\n",
    "    with key,class\n",
    "    MERGE (key)-[:BELONGS_TO]->(class)\n",
    "    \n",
    "    ''', parameters={'keyword':keyword,'class':aspect_class})\n",
    "                    \n",
    "                    \n",
    "print(\"Number of [:BELONG_TO ] relationships created:\", n)\n",
    "            "
   ]
  },
  {
   "cell_type": "code",
   "execution_count": 20,
   "metadata": {},
   "outputs": [
    {
     "name": "stdout",
     "output_type": "stream",
     "text": [
      "Number of [:HAS_SENTENCE] created: 21705\n"
     ]
    }
   ],
   "source": [
    "# Create HAS_SENTENCE\n",
    "n=0\n",
    "\n",
    "# for row in df.rdd.collect():\n",
    "for index, row in df.iterrows():    \n",
    "    n = n+1\n",
    "    sentence_no =  row[\"sentence_no\"]\n",
    "    review_id = row[\"review_id\"]\n",
    "        \n",
    "#     sentence = row[\"sentence\"]\n",
    "\n",
    "    G.run(\n",
    "        '''\n",
    "    MATCH (rev:Review{review_id:$review_id}), (sent:Sentence{number:$sentence_no})\n",
    "    MERGE (rev)-[:HAS_SENTENCE]->(sent)\n",
    "    \n",
    "    ''', parameters={'sentence_no':sentence_no, \"review_id\":review_id})\n",
    "                    \n",
    "                    \n",
    "print(\"Number of [:HAS_SENTENCE] created:\", n)"
   ]
  },
  {
   "cell_type": "code",
   "execution_count": 21,
   "metadata": {},
   "outputs": [
    {
     "name": "stdout",
     "output_type": "stream",
     "text": [
      "Number of [:HAS_OPINION_ON{polarity:$polarity}] created: 21705\n"
     ]
    }
   ],
   "source": [
    "# Create HAS_OPINION_ON Relationship\n",
    "# Create HAS_SENTENCE\n",
    "n=0\n",
    "\n",
    "# for row in df.rdd.collect():\n",
    "for index, row in df.iterrows():  \n",
    "    n = n+1\n",
    "    sentence_no =  row[\"sentence_no\"]\n",
    "    keyword = row[\"keyword\"]\n",
    "    polarity = row[\"polarity\"]\n",
    "        \n",
    "#     sentence = row[\"sentence\"]\n",
    "\n",
    "    G.run(\n",
    "        '''\n",
    "    MATCH (key:Keyword{keyword:$keyword}), (sent:Sentence{number:$sentence_no})\n",
    "    MERGE (sent)-[:HAS_OPINION_ON{polarity:$polarity}]->(key)\n",
    "    \n",
    "    ''', parameters={'sentence_no':sentence_no, \"keyword\":keyword,'polarity':polarity})\n",
    "                    \n",
    "                    \n",
    "print(\"Number of [:HAS_OPINION_ON{polarity:$polarity}] created:\", n)"
   ]
  },
  {
   "cell_type": "markdown",
   "metadata": {},
   "source": [
    "<h1>CREATE FULLTEXT INDEX</h1>"
   ]
  },
  {
   "cell_type": "code",
   "execution_count": 37,
   "metadata": {},
   "outputs": [
    {
     "data": {
      "text/plain": [
       "(No data)"
      ]
     },
     "execution_count": 37,
     "metadata": {},
     "output_type": "execute_result"
    }
   ],
   "source": [
    "# G.run('''\n",
    "# CALL db.index.fulltext.createNodeIndex(\"sentenceIndex\",\n",
    "# [\"Sentence\"], \n",
    "# [\"text\"])\n",
    "# ''')"
   ]
  },
  {
   "cell_type": "markdown",
   "metadata": {},
   "source": [
    "\n",
    "\n",
    "\n",
    "<H2>TEST QUERIES</H2>"
   ]
  },
  {
   "cell_type": "code",
   "execution_count": 7,
   "metadata": {},
   "outputs": [
    {
     "data": {
      "text/plain": [
       "'   (rev:Review)-[:HAS_SENTENCE]->(sent:Sentence)- [o:HAS_OPINION_ON]->\\n(key:Keyword)-[:BELONGS_TO]-> (class:Class) return  rev,o,class'"
      ]
     },
     "execution_count": 7,
     "metadata": {},
     "output_type": "execute_result"
    }
   ],
   "source": [
    "'''   (rev:Review)-[:HAS_SENTENCE]->(sent:Sentence)- [o:HAS_OPINION_ON]->\n",
    "(key:Keyword)-[:BELONGS_TO]-> (class:Class) return  rev,o,class'''"
   ]
  },
  {
   "cell_type": "code",
   "execution_count": 7,
   "metadata": {},
   "outputs": [],
   "source": [
    "rev_class_bipartite = G.run(\n",
    "    '''    MATCH (rev:Review)-[:HAS_SENTENCE]->(sent:Sentence)-[o:HAS_OPINION_ON]->(key:Keyword)-[:BELONGS_TO]-> (class:Class) return  rev,o,class \n",
    "   '''\n",
    ").data()\n"
   ]
  },
  {
   "cell_type": "code",
   "execution_count": 8,
   "metadata": {},
   "outputs": [
    {
     "data": {
      "text/html": [
       "<div>\n",
       "<style scoped>\n",
       "    .dataframe tbody tr th:only-of-type {\n",
       "        vertical-align: middle;\n",
       "    }\n",
       "\n",
       "    .dataframe tbody tr th {\n",
       "        vertical-align: top;\n",
       "    }\n",
       "\n",
       "    .dataframe thead th {\n",
       "        text-align: right;\n",
       "    }\n",
       "</style>\n",
       "<table border=\"1\" class=\"dataframe\">\n",
       "  <thead>\n",
       "    <tr style=\"text-align: right;\">\n",
       "      <th></th>\n",
       "      <th>rev</th>\n",
       "      <th>o</th>\n",
       "      <th>class</th>\n",
       "    </tr>\n",
       "  </thead>\n",
       "  <tbody>\n",
       "    <tr>\n",
       "      <th>0</th>\n",
       "      <td>{'review_id': 1092}</td>\n",
       "      <td>{'polarity': 0.0}</td>\n",
       "      <td>{'name': 'HARDDRIVE'}</td>\n",
       "    </tr>\n",
       "    <tr>\n",
       "      <th>1</th>\n",
       "      <td>{'review_id': 1092}</td>\n",
       "      <td>{'polarity': 0.0}</td>\n",
       "      <td>{'name': 'HARDDRIVE'}</td>\n",
       "    </tr>\n",
       "    <tr>\n",
       "      <th>2</th>\n",
       "      <td>{'review_id': 39}</td>\n",
       "      <td>{'polarity': 0.0}</td>\n",
       "      <td>{'name': 'HARDDRIVE'}</td>\n",
       "    </tr>\n",
       "    <tr>\n",
       "      <th>3</th>\n",
       "      <td>{'review_id': 92}</td>\n",
       "      <td>{'polarity': 0.2023}</td>\n",
       "      <td>{'name': 'HARDDRIVE'}</td>\n",
       "    </tr>\n",
       "    <tr>\n",
       "      <th>4</th>\n",
       "      <td>{'review_id': 1426}</td>\n",
       "      <td>{'polarity': -0.16206666666666664}</td>\n",
       "      <td>{'name': 'HARDDRIVE'}</td>\n",
       "    </tr>\n",
       "  </tbody>\n",
       "</table>\n",
       "</div>"
      ],
      "text/plain": [
       "                   rev                                   o  \\\n",
       "0  {'review_id': 1092}                   {'polarity': 0.0}   \n",
       "1  {'review_id': 1092}                   {'polarity': 0.0}   \n",
       "2    {'review_id': 39}                   {'polarity': 0.0}   \n",
       "3    {'review_id': 92}                {'polarity': 0.2023}   \n",
       "4  {'review_id': 1426}  {'polarity': -0.16206666666666664}   \n",
       "\n",
       "                   class  \n",
       "0  {'name': 'HARDDRIVE'}  \n",
       "1  {'name': 'HARDDRIVE'}  \n",
       "2  {'name': 'HARDDRIVE'}  \n",
       "3  {'name': 'HARDDRIVE'}  \n",
       "4  {'name': 'HARDDRIVE'}  "
      ]
     },
     "execution_count": 8,
     "metadata": {},
     "output_type": "execute_result"
    }
   ],
   "source": [
    "pd.DataFrame(rev_class_bipartite).head(5)"
   ]
  },
  {
   "cell_type": "code",
   "execution_count": 9,
   "metadata": {},
   "outputs": [
    {
     "name": "stdout",
     "output_type": "stream",
     "text": [
      "Time:  0.5259783267974854\n"
     ]
    }
   ],
   "source": [
    "import time\n",
    "t0=time.time()\n",
    "rev_projected =  G.run('''//class projection\n",
    "MATCH \n",
    " (class1:Class)<-[:BELONGS_TO]-(key1:Keyword)<-[o1:HAS_OPINION_ON]-(sent1:Sentence)<-[:HAS_SENTENCE]-(rev:Review)-[:HAS_SENTENCE]->(sent2:Sentence)- [o2:HAS_OPINION_ON]->(key2:Keyword)-[:BELONGS_TO]-> (class2:Class)\n",
    "WHERE class1<>class2\n",
    "WITH class1,class2,count(DISTINCT(rev)) as rev_intsct_count\n",
    "return class1.name,class2.name,rev_intsct_count\n",
    "   //return  rev.review_id,o.polarity,class.name\n",
    " ''').data()\n",
    "t1=time.time()\n",
    "print(\"Time: \", t1-t0)\n",
    "rev_projection = pd.DataFrame(rev_projected)"
   ]
  },
  {
   "cell_type": "markdown",
   "metadata": {},
   "source": [
    "<h1>ANALYSIS STARTS HERE...............</h1>"
   ]
  },
  {
   "cell_type": "code",
   "execution_count": 10,
   "metadata": {},
   "outputs": [
    {
     "name": "stdout",
     "output_type": "stream",
     "text": [
      "Time:  0.02200031280517578\n"
     ]
    }
   ],
   "source": [
    "import time\n",
    "t0=time.time()\n",
    "class_IDs =  G.run('''//class projection\n",
    "MATCH \n",
    " (class:Class)\n",
    " \n",
    " return ID(class) as id\n",
    " ''').data()\n",
    "t1=time.time()\n",
    "print(\"Time: \", t1-t0)\n",
    "class_IDs = pd.DataFrame(class_IDs)"
   ]
  },
  {
   "cell_type": "code",
   "execution_count": 11,
   "metadata": {},
   "outputs": [
    {
     "name": "stdout",
     "output_type": "stream",
     "text": [
      "Time:  0.01297450065612793\n",
      "[{'id': 15267}, {'id': 15268}, {'id': 15269}, {'id': 15270}, {'id': 15271}, {'id': 15272}, {'id': 15273}, {'id': 15274}, {'id': 15275}, {'id': 15276}, {'id': 15277}, {'id': 15278}, {'id': 15279}, {'id': 15280}, {'id': 15281}, {'id': 15282}, {'id': 15283}, {'id': 15477}]\n"
     ]
    }
   ],
   "source": [
    "import time\n",
    "t0=time.time()\n",
    "idd1=23185\n",
    "class_IDs =  G.run('''//class projection\n",
    "MATCH \n",
    " (class:Class) \n",
    " \n",
    " //where id(class)=$id\n",
    " \n",
    " return ID(class) as id\n",
    " ''',parameters={'id':idd1}).data()\n",
    "t1=time.time()\n",
    "print(\"Time: \", t1-t0)\n",
    "print(class_IDs)\n",
    "# class_IDs = pd.DataFrame(class_IDs)"
   ]
  },
  {
   "cell_type": "code",
   "execution_count": 30,
   "metadata": {},
   "outputs": [
    {
     "data": {
      "text/plain": [
       "[15267,\n",
       " 15268,\n",
       " 15269,\n",
       " 15270,\n",
       " 15271,\n",
       " 15272,\n",
       " 15273,\n",
       " 15274,\n",
       " 15275,\n",
       " 15276,\n",
       " 15277,\n",
       " 15278,\n",
       " 15279,\n",
       " 15280,\n",
       " 15281,\n",
       " 15282,\n",
       " 15283,\n",
       " 15477]"
      ]
     },
     "execution_count": 30,
     "metadata": {},
     "output_type": "execute_result"
    }
   ],
   "source": [
    "class_IDs = pd.DataFrame(class_IDs)\n",
    "id_list =list(class_IDs[\"id\"])\n",
    "id_list"
   ]
  },
  {
   "cell_type": "markdown",
   "metadata": {},
   "source": [
    "<h2>Most mentioned aspect class</h2>"
   ]
  },
  {
   "cell_type": "code",
   "execution_count": 13,
   "metadata": {},
   "outputs": [],
   "source": [
    "most_mentioned = G.run('''MATCH \n",
    "     (class1:Class)<-[:BELONGS_TO]-(key1:Keyword)<-[o1:HAS_OPINION_ON]-(sent1:Sentence)<-[:HAS_SENTENCE]-(rev:Review)\n",
    "      return class1.name, count(o1) as counts order by counts desc''').data()"
   ]
  },
  {
   "cell_type": "code",
   "execution_count": 14,
   "metadata": {},
   "outputs": [
    {
     "data": {
      "text/plain": [
       "[{'class1.name': 'LAPTOP', 'counts': 10747},\n",
       " {'class1.name': 'DISPLAY', 'counts': 2050},\n",
       " {'class1.name': 'CONNECTIVITY', 'counts': 1687},\n",
       " {'class1.name': 'OS', 'counts': 1554},\n",
       " {'class1.name': 'PERFORMANCE', 'counts': 1489},\n",
       " {'class1.name': 'KEYBOARD', 'counts': 1444},\n",
       " {'class1.name': 'BATTERY', 'counts': 1003},\n",
       " {'class1.name': 'SUPPORT', 'counts': 467},\n",
       " {'class1.name': 'MULTIMEDIA', 'counts': 389},\n",
       " {'class1.name': 'CPU', 'counts': 205},\n",
       " {'class1.name': 'FAN', 'counts': 186},\n",
       " {'class1.name': 'MEMORY', 'counts': 148},\n",
       " {'class1.name': 'HARDDRIVE', 'counts': 109},\n",
       " {'class1.name': 'SHIPPING', 'counts': 95},\n",
       " {'class1.name': 'CHARGER', 'counts': 81},\n",
       " {'class1.name': 'OPTICAL_DRIVE', 'counts': 46},\n",
       " {'class1.name': 'MOTHERBOARD', 'counts': 5}]"
      ]
     },
     "execution_count": 14,
     "metadata": {},
     "output_type": "execute_result"
    }
   ],
   "source": [
    "most_mentioned"
   ]
  },
  {
   "cell_type": "markdown",
   "metadata": {},
   "source": [
    "<h2>Most positive mentioned aspect class</h2>"
   ]
  },
  {
   "cell_type": "code",
   "execution_count": 15,
   "metadata": {},
   "outputs": [],
   "source": [
    "pos_most_mentioned = G.run('''MATCH \n",
    "     (class1:Class)<-[:BELONGS_TO]-(key1:Keyword)<-[o1:HAS_OPINION_ON]-(sent1:Sentence)<-[:HAS_SENTENCE]-(rev:Review)\n",
    "     where o1.polarity>0 return class1.name, count(o1) as counts order by counts desc''').data()"
   ]
  },
  {
   "cell_type": "code",
   "execution_count": 16,
   "metadata": {},
   "outputs": [
    {
     "data": {
      "text/plain": [
       "[{'class1.name': 'LAPTOP', 'counts': 5533},\n",
       " {'class1.name': 'DISPLAY', 'counts': 1046},\n",
       " {'class1.name': 'KEYBOARD', 'counts': 905},\n",
       " {'class1.name': 'PERFORMANCE', 'counts': 816},\n",
       " {'class1.name': 'OS', 'counts': 689},\n",
       " {'class1.name': 'CONNECTIVITY', 'counts': 647},\n",
       " {'class1.name': 'BATTERY', 'counts': 602},\n",
       " {'class1.name': 'MULTIMEDIA', 'counts': 202},\n",
       " {'class1.name': 'SUPPORT', 'counts': 179},\n",
       " {'class1.name': 'CPU', 'counts': 96},\n",
       " {'class1.name': 'FAN', 'counts': 77},\n",
       " {'class1.name': 'MEMORY', 'counts': 62},\n",
       " {'class1.name': 'SHIPPING', 'counts': 48},\n",
       " {'class1.name': 'HARDDRIVE', 'counts': 41},\n",
       " {'class1.name': 'CHARGER', 'counts': 32},\n",
       " {'class1.name': 'OPTICAL_DRIVE', 'counts': 20}]"
      ]
     },
     "execution_count": 16,
     "metadata": {},
     "output_type": "execute_result"
    }
   ],
   "source": [
    "pos_most_mentioned"
   ]
  },
  {
   "cell_type": "markdown",
   "metadata": {},
   "source": [
    "<h2>Most negative mentioned aspect class</h2>"
   ]
  },
  {
   "cell_type": "code",
   "execution_count": 17,
   "metadata": {},
   "outputs": [],
   "source": [
    "neg_most_mentioned = G.run('''MATCH \n",
    "     (class1:Class)<-[:BELONGS_TO]-(key1:Keyword)<-[o1:HAS_OPINION_ON]-(sent1:Sentence)<-[:HAS_SENTENCE]-(rev:Review)\n",
    "     where o1.polarity<0 return class1.name, count(o1) as counts order by counts desc''').data()"
   ]
  },
  {
   "cell_type": "code",
   "execution_count": 18,
   "metadata": {},
   "outputs": [
    {
     "data": {
      "text/plain": [
       "[{'class1.name': 'LAPTOP', 'counts': 1555},\n",
       " {'class1.name': 'DISPLAY', 'counts': 449},\n",
       " {'class1.name': 'CONNECTIVITY', 'counts': 332},\n",
       " {'class1.name': 'OS', 'counts': 320},\n",
       " {'class1.name': 'KEYBOARD', 'counts': 223},\n",
       " {'class1.name': 'PERFORMANCE', 'counts': 191},\n",
       " {'class1.name': 'BATTERY', 'counts': 140},\n",
       " {'class1.name': 'SUPPORT', 'counts': 136},\n",
       " {'class1.name': 'MULTIMEDIA', 'counts': 83},\n",
       " {'class1.name': 'FAN', 'counts': 73},\n",
       " {'class1.name': 'CPU', 'counts': 35},\n",
       " {'class1.name': 'HARDDRIVE', 'counts': 32},\n",
       " {'class1.name': 'MEMORY', 'counts': 31},\n",
       " {'class1.name': 'CHARGER', 'counts': 22},\n",
       " {'class1.name': 'SHIPPING', 'counts': 20},\n",
       " {'class1.name': 'OPTICAL_DRIVE', 'counts': 12},\n",
       " {'class1.name': 'MOTHERBOARD', 'counts': 3}]"
      ]
     },
     "execution_count": 18,
     "metadata": {},
     "output_type": "execute_result"
    }
   ],
   "source": [
    "neg_most_mentioned"
   ]
  },
  {
   "cell_type": "markdown",
   "metadata": {},
   "source": [
    "<h2>Most neutral mentioned aspect class</h2>"
   ]
  },
  {
   "cell_type": "code",
   "execution_count": 19,
   "metadata": {},
   "outputs": [],
   "source": [
    "neu_most_mentioned = G.run('''MATCH \n",
    "     (class1:Class)<-[:BELONGS_TO]-(key1:Keyword)<-[o1:HAS_OPINION_ON]-(sent1:Sentence)<-[:HAS_SENTENCE]-(rev:Review)\n",
    "     where o1.polarity=0 return class1.name, count(o1) as counts order by counts desc''').data()"
   ]
  },
  {
   "cell_type": "code",
   "execution_count": 20,
   "metadata": {},
   "outputs": [
    {
     "data": {
      "text/plain": [
       "[{'class1.name': 'LAPTOP', 'counts': 3659},\n",
       " {'class1.name': 'CONNECTIVITY', 'counts': 708},\n",
       " {'class1.name': 'DISPLAY', 'counts': 555},\n",
       " {'class1.name': 'OS', 'counts': 545},\n",
       " {'class1.name': 'PERFORMANCE', 'counts': 482},\n",
       " {'class1.name': 'KEYBOARD', 'counts': 316},\n",
       " {'class1.name': 'BATTERY', 'counts': 261},\n",
       " {'class1.name': 'SUPPORT', 'counts': 152},\n",
       " {'class1.name': 'MULTIMEDIA', 'counts': 104},\n",
       " {'class1.name': 'CPU', 'counts': 74},\n",
       " {'class1.name': 'MEMORY', 'counts': 55},\n",
       " {'class1.name': 'HARDDRIVE', 'counts': 36},\n",
       " {'class1.name': 'FAN', 'counts': 36},\n",
       " {'class1.name': 'CHARGER', 'counts': 27},\n",
       " {'class1.name': 'SHIPPING', 'counts': 27},\n",
       " {'class1.name': 'OPTICAL_DRIVE', 'counts': 14},\n",
       " {'class1.name': 'MOTHERBOARD', 'counts': 2}]"
      ]
     },
     "execution_count": 20,
     "metadata": {},
     "output_type": "execute_result"
    }
   ],
   "source": [
    "neu_most_mentioned"
   ]
  },
  {
   "cell_type": "raw",
   "metadata": {},
   "source": [
    "[{'class1.name': 'LAPTOP', 'counts': 4176},\n",
    " {'class1.name': 'OS', 'counts': 2405},\n",
    " {'class1.name': 'CONNECTIVITY', 'counts': 2248},\n",
    " {'class1.name': 'DISPLAY', 'counts': 805},\n",
    " {'class1.name': 'PERFORMANCE', 'counts': 628},\n",
    " {'class1.name': 'MULTIMEDIA', 'counts': 497},\n",
    " {'class1.name': 'BATTERY', 'counts': 474},\n",
    " {'class1.name': 'KEYBOARD', 'counts': 355},\n",
    " {'class1.name': 'MEMORY', 'counts': 299},\n",
    " {'class1.name': 'SUPPORT', 'counts': 271},\n",
    " {'class1.name': 'HARDDRIVE', 'counts': 176},\n",
    " {'class1.name': 'FAN', 'counts': 145},\n",
    " {'class1.name': 'CPU', 'counts': 87},\n",
    " {'class1.name': 'OPTICAL_DRIVE', 'counts': 40},\n",
    " {'class1.name': 'CHARGER', 'counts': 31},\n",
    " {'class1.name': 'SHIPPING', 'counts': 30},\n",
    " {'class1.name': 'MOTHERBOARD', 'counts': 2}] "
   ]
  },
  {
   "cell_type": "markdown",
   "metadata": {},
   "source": [
    "<h2>Generate Opinion Statistics for the 17 aspect classes of the product</h2>"
   ]
  },
  {
   "cell_type": "code",
   "execution_count": 36,
   "metadata": {},
   "outputs": [
    {
     "name": "stdout",
     "output_type": "stream",
     "text": [
      "all:  1\n",
      "all xxxxxx [{'aspect_class': 'HARDDRIVE', 'all_counts': 109}]\n",
      "negs:  1\n",
      "[{'neg_counts': 32}]\n",
      "neutrals:  1\n",
      "[{'neu_counts': 36}]\n",
      "all:  1\n",
      "all xxxxxx [{'aspect_class': 'BATTERY', 'all_counts': 1003}]\n",
      "negs:  1\n",
      "[{'neg_counts': 140}]\n",
      "neutrals:  1\n",
      "[{'neu_counts': 261}]\n",
      "all:  1\n",
      "all xxxxxx [{'aspect_class': 'CHARGER', 'all_counts': 81}]\n",
      "negs:  1\n",
      "[{'neg_counts': 22}]\n",
      "neutrals:  1\n",
      "[{'neu_counts': 27}]\n",
      "all:  1\n",
      "all xxxxxx [{'aspect_class': 'CONNECTIVITY', 'all_counts': 1687}]\n",
      "negs:  1\n",
      "[{'neg_counts': 332}]\n",
      "neutrals:  1\n",
      "[{'neu_counts': 708}]\n",
      "all:  1\n",
      "all xxxxxx [{'aspect_class': 'CPU', 'all_counts': 205}]\n",
      "negs:  1\n",
      "[{'neg_counts': 35}]\n",
      "neutrals:  1\n",
      "[{'neu_counts': 74}]\n",
      "all:  1\n",
      "all xxxxxx [{'aspect_class': 'DISPLAY', 'all_counts': 2050}]\n",
      "negs:  1\n",
      "[{'neg_counts': 449}]\n",
      "neutrals:  1\n",
      "[{'neu_counts': 555}]\n",
      "all:  1\n",
      "all xxxxxx [{'aspect_class': 'FAN', 'all_counts': 186}]\n",
      "negs:  1\n",
      "[{'neg_counts': 73}]\n",
      "neutrals:  1\n",
      "[{'neu_counts': 36}]\n",
      "all:  1\n",
      "all xxxxxx [{'aspect_class': 'KEYBOARD', 'all_counts': 1444}]\n",
      "negs:  1\n",
      "[{'neg_counts': 223}]\n",
      "neutrals:  1\n",
      "[{'neu_counts': 316}]\n",
      "all:  1\n",
      "all xxxxxx [{'aspect_class': 'LAPTOP', 'all_counts': 10747}]\n",
      "negs:  1\n",
      "[{'neg_counts': 1555}]\n",
      "neutrals:  1\n",
      "[{'neu_counts': 3659}]\n",
      "all:  1\n",
      "all xxxxxx [{'aspect_class': 'MEMORY', 'all_counts': 148}]\n",
      "negs:  1\n",
      "[{'neg_counts': 31}]\n",
      "neutrals:  1\n",
      "[{'neu_counts': 55}]\n",
      "all:  1\n",
      "all xxxxxx [{'aspect_class': 'MOTHERBOARD', 'all_counts': 5}]\n",
      "negs:  1\n",
      "[{'neg_counts': 3}]\n",
      "neutrals:  1\n",
      "[{'neu_counts': 2}]\n",
      "all:  1\n",
      "all xxxxxx [{'aspect_class': 'MULTIMEDIA', 'all_counts': 389}]\n",
      "negs:  1\n",
      "[{'neg_counts': 83}]\n",
      "neutrals:  1\n",
      "[{'neu_counts': 104}]\n",
      "all:  1\n",
      "all xxxxxx [{'aspect_class': 'OPTICAL_DRIVE', 'all_counts': 46}]\n",
      "negs:  1\n",
      "[{'neg_counts': 12}]\n",
      "neutrals:  1\n",
      "[{'neu_counts': 14}]\n",
      "all:  1\n",
      "all xxxxxx [{'aspect_class': 'OS', 'all_counts': 1554}]\n",
      "negs:  1\n",
      "[{'neg_counts': 320}]\n",
      "neutrals:  1\n",
      "[{'neu_counts': 545}]\n",
      "all:  1\n",
      "all xxxxxx [{'aspect_class': 'PERFORMANCE', 'all_counts': 1489}]\n",
      "negs:  1\n",
      "[{'neg_counts': 191}]\n",
      "neutrals:  1\n",
      "[{'neu_counts': 482}]\n",
      "all:  1\n",
      "all xxxxxx [{'aspect_class': 'SHIPPING', 'all_counts': 95}]\n",
      "negs:  1\n",
      "[{'neg_counts': 20}]\n",
      "neutrals:  1\n",
      "[{'neu_counts': 27}]\n",
      "all:  1\n",
      "all xxxxxx [{'aspect_class': 'SUPPORT', 'all_counts': 467}]\n",
      "negs:  1\n",
      "[{'neg_counts': 136}]\n",
      "neutrals:  1\n",
      "[{'neu_counts': 152}]\n",
      "nothing here xxxxxxxxxxxxxxxxxxxxxxxxxxxxx\n",
      "CPU \n",
      "[{'aspect_class': 'CPU ', 'all_counts': 0}]\n",
      "all:  1\n",
      "all xxxxxx [{'aspect_class': 'CPU ', 'all_counts': 0}]\n",
      "negs:  1\n",
      "[{'neg_counts': 0}]\n",
      "neutrals:  1\n",
      "[{'neu_counts': 0}]\n"
     ]
    }
   ],
   "source": [
    "aspect_class_opinion_stats=[]\n",
    "id_list=list(class_IDs.id)\n",
    "\n",
    "for ID in id_list:\n",
    "\n",
    "    classid=ID\n",
    "    all_opinions = G.run('''//MATCH (class:Class)\n",
    "            //WHERE id(class)=$classid\n",
    "            //WITH class\n",
    "           // MATCH\n",
    "         MATCH (class)<-[:BELONGS_TO]-(key1:Keyword)<-[o1:HAS_OPINION_ON]-(sent1:Sentence)\n",
    "         WHERE id(class)=$classid\n",
    "         //<-[:HAS_SENTENCE]-(rev:Review)\n",
    "         //count(o1) as all_counts\n",
    "\n",
    "         RETURN class.name as aspect_class, count(o1) as all_counts\n",
    "\n",
    "\n",
    "         ''',parameters={'classid':classid}).data()\n",
    "    \n",
    "    if  len(all_opinions)==0:\n",
    "        print(\"nothing here xxxxxxxxxxxxxxxxxxxxxxxxxxxxx\")\n",
    "        \n",
    "        cname=G.run('''MATCH(n:Class) \n",
    "                where id(n)=$classid  \n",
    "                return n.name as name\n",
    "                ''',parameters={'classid':classid}).data()\n",
    "        print(cname[0][\"name\"])\n",
    "        all_opinions=[]\n",
    "        all_opinions.append({'aspect_class':cname[0][\"name\"]})\n",
    "        all_opinions[0][\"all_counts\"]=0\n",
    "        print(all_opinions)\n",
    "    print(\"all: \",len(all_opinions))\n",
    "    print(\"all xxxxxx\",all_opinions)\n",
    "\n",
    "    neg_opinions = G.run('''MATCH (class:Class)\n",
    "            WHERE id(class)=$classid\n",
    "         MATCH \n",
    "         (class)<-[:BELONGS_TO]-(key1:Keyword)<-[o1:HAS_OPINION_ON]-(sent1:Sentence)<-[:HAS_SENTENCE]-(rev:Review)\n",
    "         where o1.polarity<0 \n",
    "\n",
    "         RETURN count(o1) as neg_counts\n",
    "\n",
    "\n",
    "         ''',parameters={'classid':classid}).data()\n",
    "    \n",
    "    if len( neg_opinions)==0:\n",
    "        neg_opinions=[]\n",
    "        neg_opinions.apprend({\"neg_counts\":0})\n",
    "    print(\"negs: \",len(neg_opinions))\n",
    "    print(neg_opinions)\n",
    "\n",
    "    pos_opinions = G.run('''MATCH (class:Class)\n",
    "            WHERE id(class)=$classid\n",
    "         MATCH \n",
    "         (class)<-[:BELONGS_TO]-(key1:Keyword)<-[o1:HAS_OPINION_ON]-(sent1:Sentence)<-[:HAS_SENTENCE]-(rev:Review)\n",
    "         where o1.polarity>0 \n",
    "\n",
    "        RETURN count(o1) as pos_counts\n",
    "\n",
    "\n",
    "         ''',parameters={'classid':classid}).data()\n",
    "    \n",
    "    if len(pos_opinions)==0:\n",
    "        pos_opinions=[]\n",
    "        pos_opinions.apprend({\"pos_counts\":0})\n",
    "\n",
    "    neu_opinions = G.run('''MATCH (class:Class)\n",
    "            WHERE id(class)=$classid\n",
    "         MATCH \n",
    "         (class)<-[:BELONGS_TO]-(key1:Keyword)<-[o1:HAS_OPINION_ON]-(sent1:Sentence)<-[:HAS_SENTENCE]-(rev:Review)\n",
    "         where o1.polarity=0\n",
    "\n",
    "         RETURN count(o1) as neu_counts\n",
    "\n",
    "\n",
    "         ''',parameters={'classid':classid}).data()\n",
    "    \n",
    "    if  len(neu_opinions)==0:\n",
    "        neu_opinions=[]\n",
    "        neu_opinions.apprend({\"neu_counts\":0})\n",
    "\n",
    "    \n",
    "    print(\"neutrals: \",len(neu_opinions))\n",
    "    print(neu_opinions)\n",
    "    \n",
    "    \n",
    "    aspect_class_opinion_stats.append([all_opinions[0]['aspect_class'], \n",
    "                                       all_opinions[0]['all_counts'],\n",
    "                                       pos_opinions[0]['pos_counts'],\n",
    "#                                        pos_opinions[0]['pos_counts']/all_opinions[0]['all_counts']*100,\n",
    "                                       neg_opinions[0]['neg_counts'],\n",
    "#                                        neg_opinions[0]['neg_counts']/all_opinions[0]['all_counts']*100, \n",
    "                                       neu_opinions[0]['neu_counts']\n",
    "#                                        neu_opinions[0]['neu_counts']/all_opinions[0]['all_counts']*100\n",
    "                                      ])"
   ]
  },
  {
   "cell_type": "code",
   "execution_count": 35,
   "metadata": {},
   "outputs": [
    {
     "data": {
      "text/html": [
       "<div>\n",
       "<style scoped>\n",
       "    .dataframe tbody tr th:only-of-type {\n",
       "        vertical-align: middle;\n",
       "    }\n",
       "\n",
       "    .dataframe tbody tr th {\n",
       "        vertical-align: top;\n",
       "    }\n",
       "\n",
       "    .dataframe thead th {\n",
       "        text-align: right;\n",
       "    }\n",
       "</style>\n",
       "<table border=\"1\" class=\"dataframe\">\n",
       "  <thead>\n",
       "    <tr style=\"text-align: right;\">\n",
       "      <th></th>\n",
       "      <th>aspect_class</th>\n",
       "      <th>all_counts</th>\n",
       "      <th>pos_counts</th>\n",
       "      <th>neg_counts</th>\n",
       "      <th>neu_counts</th>\n",
       "    </tr>\n",
       "  </thead>\n",
       "  <tbody>\n",
       "    <tr>\n",
       "      <th>8</th>\n",
       "      <td>LAPTOP</td>\n",
       "      <td>10747</td>\n",
       "      <td>5533</td>\n",
       "      <td>1555</td>\n",
       "      <td>3659</td>\n",
       "    </tr>\n",
       "    <tr>\n",
       "      <th>5</th>\n",
       "      <td>DISPLAY</td>\n",
       "      <td>2050</td>\n",
       "      <td>1046</td>\n",
       "      <td>449</td>\n",
       "      <td>555</td>\n",
       "    </tr>\n",
       "    <tr>\n",
       "      <th>3</th>\n",
       "      <td>CONNECTIVITY</td>\n",
       "      <td>1687</td>\n",
       "      <td>647</td>\n",
       "      <td>332</td>\n",
       "      <td>708</td>\n",
       "    </tr>\n",
       "    <tr>\n",
       "      <th>13</th>\n",
       "      <td>OS</td>\n",
       "      <td>1554</td>\n",
       "      <td>689</td>\n",
       "      <td>320</td>\n",
       "      <td>545</td>\n",
       "    </tr>\n",
       "    <tr>\n",
       "      <th>14</th>\n",
       "      <td>PERFORMANCE</td>\n",
       "      <td>1489</td>\n",
       "      <td>816</td>\n",
       "      <td>191</td>\n",
       "      <td>482</td>\n",
       "    </tr>\n",
       "    <tr>\n",
       "      <th>7</th>\n",
       "      <td>KEYBOARD</td>\n",
       "      <td>1444</td>\n",
       "      <td>905</td>\n",
       "      <td>223</td>\n",
       "      <td>316</td>\n",
       "    </tr>\n",
       "    <tr>\n",
       "      <th>1</th>\n",
       "      <td>BATTERY</td>\n",
       "      <td>1003</td>\n",
       "      <td>602</td>\n",
       "      <td>140</td>\n",
       "      <td>261</td>\n",
       "    </tr>\n",
       "    <tr>\n",
       "      <th>16</th>\n",
       "      <td>SUPPORT</td>\n",
       "      <td>467</td>\n",
       "      <td>179</td>\n",
       "      <td>136</td>\n",
       "      <td>152</td>\n",
       "    </tr>\n",
       "    <tr>\n",
       "      <th>11</th>\n",
       "      <td>MULTIMEDIA</td>\n",
       "      <td>389</td>\n",
       "      <td>202</td>\n",
       "      <td>83</td>\n",
       "      <td>104</td>\n",
       "    </tr>\n",
       "    <tr>\n",
       "      <th>4</th>\n",
       "      <td>CPU</td>\n",
       "      <td>205</td>\n",
       "      <td>96</td>\n",
       "      <td>35</td>\n",
       "      <td>74</td>\n",
       "    </tr>\n",
       "    <tr>\n",
       "      <th>6</th>\n",
       "      <td>FAN</td>\n",
       "      <td>186</td>\n",
       "      <td>77</td>\n",
       "      <td>73</td>\n",
       "      <td>36</td>\n",
       "    </tr>\n",
       "    <tr>\n",
       "      <th>9</th>\n",
       "      <td>MEMORY</td>\n",
       "      <td>148</td>\n",
       "      <td>62</td>\n",
       "      <td>31</td>\n",
       "      <td>55</td>\n",
       "    </tr>\n",
       "    <tr>\n",
       "      <th>0</th>\n",
       "      <td>HARDDRIVE</td>\n",
       "      <td>109</td>\n",
       "      <td>41</td>\n",
       "      <td>32</td>\n",
       "      <td>36</td>\n",
       "    </tr>\n",
       "    <tr>\n",
       "      <th>15</th>\n",
       "      <td>SHIPPING</td>\n",
       "      <td>95</td>\n",
       "      <td>48</td>\n",
       "      <td>20</td>\n",
       "      <td>27</td>\n",
       "    </tr>\n",
       "    <tr>\n",
       "      <th>2</th>\n",
       "      <td>CHARGER</td>\n",
       "      <td>81</td>\n",
       "      <td>32</td>\n",
       "      <td>22</td>\n",
       "      <td>27</td>\n",
       "    </tr>\n",
       "    <tr>\n",
       "      <th>12</th>\n",
       "      <td>OPTICAL_DRIVE</td>\n",
       "      <td>46</td>\n",
       "      <td>20</td>\n",
       "      <td>12</td>\n",
       "      <td>14</td>\n",
       "    </tr>\n",
       "    <tr>\n",
       "      <th>10</th>\n",
       "      <td>MOTHERBOARD</td>\n",
       "      <td>5</td>\n",
       "      <td>0</td>\n",
       "      <td>3</td>\n",
       "      <td>2</td>\n",
       "    </tr>\n",
       "    <tr>\n",
       "      <th>17</th>\n",
       "      <td>CPU</td>\n",
       "      <td>0</td>\n",
       "      <td>0</td>\n",
       "      <td>0</td>\n",
       "      <td>0</td>\n",
       "    </tr>\n",
       "  </tbody>\n",
       "</table>\n",
       "</div>"
      ],
      "text/plain": [
       "     aspect_class  all_counts  pos_counts  neg_counts  neu_counts\n",
       "8          LAPTOP       10747        5533        1555        3659\n",
       "5         DISPLAY        2050        1046         449         555\n",
       "3    CONNECTIVITY        1687         647         332         708\n",
       "13             OS        1554         689         320         545\n",
       "14    PERFORMANCE        1489         816         191         482\n",
       "7        KEYBOARD        1444         905         223         316\n",
       "1         BATTERY        1003         602         140         261\n",
       "16        SUPPORT         467         179         136         152\n",
       "11     MULTIMEDIA         389         202          83         104\n",
       "4             CPU         205          96          35          74\n",
       "6             FAN         186          77          73          36\n",
       "9          MEMORY         148          62          31          55\n",
       "0       HARDDRIVE         109          41          32          36\n",
       "15       SHIPPING          95          48          20          27\n",
       "2         CHARGER          81          32          22          27\n",
       "12  OPTICAL_DRIVE          46          20          12          14\n",
       "10    MOTHERBOARD           5           0           3           2\n",
       "17           CPU            0           0           0           0"
      ]
     },
     "execution_count": 35,
     "metadata": {},
     "output_type": "execute_result"
    }
   ],
   "source": [
    "# [all_opinions[0]['aspect_class'], all_opinions[0]['all_counts'],pos_opinions[0]['pos_counts'],pos_opinions[0]['pos_counts']/all_opinions[0]['all_counts']*100,neg_opinions[0]['neg_counts'],neg_opinions[0]['neg_counts']/all_opinions[0]['all_counts']*100, neu_opinions[0]['neu_counts'], neu_opinions[0]['neu_counts']/all_opinions[0]['all_counts']*100]\n",
    "\n",
    "\n",
    "ABSAPI_stats = pd.DataFrame(aspect_class_opinion_stats,columns=[\"aspect_class\",\n",
    "                                                                \"all_counts\",\n",
    "                                                                \"pos_counts\",\n",
    "                                                                \"neg_counts\",\n",
    "                                                                \"neu_counts\"\n",
    "                                                                ])\n",
    "\n",
    "\n",
    "\n",
    "ABSAPI_stats.sort_values(['all_counts'], ascending=False)"
   ]
  },
  {
   "cell_type": "code",
   "execution_count": 44,
   "metadata": {},
   "outputs": [
    {
     "name": "stdout",
     "output_type": "stream",
     "text": [
      "fig6\n"
     ]
    },
    {
     "data": {
      "image/png": "[encoded data removed]",
      "text/plain": [
       "<Figure size 576x576 with 1 Axes>"
      ]
     },
     "metadata": {},
     "output_type": "display_data"
    }
   ],
   "source": [
    "import seaborn as sns\n",
    "import matplotlib.pyplot as plt\n",
    "sns.set(style=\"whitegrid\")\n",
    "\n",
    "\n",
    "# Initialize the matplotlib figure\n",
    "f, ax = plt.subplots(figsize=(8, 8))\n",
    "\n",
    "\n",
    "data= ABSAPI_stats.sort_values(['all_counts'], ascending=False)\n",
    "data= data[['aspect_class','all_counts','neu_counts','pos_counts', 'neg_counts']]\n",
    "# data\n",
    "\n",
    "# Plot the total crashes\n",
    "sns.set_color_codes(\"pastel\")\n",
    "sns.barplot(x=\"all_counts\", y=\"aspect_class\", data=data,\n",
    "            label=\"Total\", color=\"b\")\n",
    "\n",
    "# Plot the crashes where alcohol was involved\n",
    "sns.set_color_codes(\"muted\")\n",
    "sns.barplot(x=\"pos_counts\", y=\"aspect_class\", data=data,\n",
    "            label=\"positive\", color=\"g\")\n",
    "\n",
    "\n",
    "# Plot the crashes where alcohol was involved\n",
    "sns.set_color_codes(\"muted\")\n",
    "sns.barplot(x=\"neg_counts\", y=\"aspect_class\", data=data,\n",
    "            label=\"negative\", color=\"r\")\n",
    "\n",
    "# # Plot the crashes where alcohol was involved\n",
    "# sns.set_color_codes(\"muted\")\n",
    "# sns.barplot(x=\"neu_counts\", y=\"aspect_class\", data=data,\n",
    "#             label=\"neutral\", color=\"g\")\n",
    "\n",
    "\n",
    "# Add a legend and informative axis label\n",
    "ax.legend(ncol=2, loc=\"lower right\", frameon=True)\n",
    "# ax.set(xlim=(0, 12080), ylabel=\"Aspect Classes\", xlabel=\"Number of opinions\")\n",
    "ax.set( ylabel=\"Aspect Classes\", xlabel=\"Number of opinions\")\n",
    "sns.despine(left=True, bottom=True)\n",
    "print(\"fig6\")"
   ]
  },
  {
   "cell_type": "markdown",
   "metadata": {},
   "source": [
    "<h1>Keyword Stats</h1>"
   ]
  },
  {
   "cell_type": "markdown",
   "metadata": {},
   "source": [
    "<h2>Generate Opinion Statistics for the top 20 aspect keywords of the product</h2>"
   ]
  },
  {
   "cell_type": "code",
   "execution_count": 57,
   "metadata": {},
   "outputs": [
    {
     "name": "stdout",
     "output_type": "stream",
     "text": [
      "Time:  0.04799938201904297\n",
      "[{'id': 23202}, {'id': 23203}, {'id': 23206}, {'id': 23207}, {'id': 23208}, {'id': 23209}, {'id': 23210}, {'id': 23211}, {'id': 23212}, {'id': 23215}, {'id': 23216}, {'id': 23217}, {'id': 23219}, {'id': 23220}, {'id': 23221}, {'id': 23222}, {'id': 23223}, {'id': 23224}, {'id': 23225}, {'id': 23226}, {'id': 23227}, {'id': 23228}, {'id': 23229}, {'id': 23231}, {'id': 23232}, {'id': 23233}, {'id': 23234}, {'id': 23235}, {'id': 23236}, {'id': 23237}, {'id': 23238}, {'id': 23239}, {'id': 23240}, {'id': 23242}, {'id': 23245}, {'id': 23246}, {'id': 23247}, {'id': 23248}, {'id': 23249}, {'id': 23250}, {'id': 23251}, {'id': 23254}, {'id': 23255}, {'id': 23256}, {'id': 23257}, {'id': 23258}, {'id': 23259}, {'id': 23260}, {'id': 23261}, {'id': 23262}, {'id': 23263}, {'id': 23264}, {'id': 23266}, {'id': 23267}, {'id': 23268}, {'id': 23270}, {'id': 23277}, {'id': 23278}, {'id': 23280}, {'id': 23281}, {'id': 23282}, {'id': 23284}, {'id': 23285}, {'id': 23286}, {'id': 23288}, {'id': 23289}, {'id': 23290}, {'id': 23292}, {'id': 23295}, {'id': 23299}, {'id': 23301}, {'id': 23302}, {'id': 23303}, {'id': 23304}, {'id': 23306}, {'id': 23307}, {'id': 23308}, {'id': 23309}, {'id': 23310}, {'id': 23311}, {'id': 23312}, {'id': 23313}, {'id': 23314}, {'id': 23315}, {'id': 23316}, {'id': 23317}, {'id': 23318}, {'id': 23319}, {'id': 23320}, {'id': 23322}, {'id': 23324}, {'id': 23325}, {'id': 23326}, {'id': 23327}, {'id': 23328}, {'id': 23329}, {'id': 23331}, {'id': 23336}, {'id': 23337}, {'id': 23340}, {'id': 23341}, {'id': 23342}, {'id': 23343}, {'id': 23344}, {'id': 23346}, {'id': 23347}, {'id': 23348}, {'id': 23349}, {'id': 23351}, {'id': 23352}, {'id': 23354}, {'id': 23355}, {'id': 23356}, {'id': 23357}, {'id': 23360}, {'id': 23362}, {'id': 23363}, {'id': 23364}, {'id': 23366}, {'id': 23368}, {'id': 23369}, {'id': 23370}, {'id': 23371}, {'id': 23372}, {'id': 23373}, {'id': 23374}, {'id': 23375}, {'id': 23377}, {'id': 23378}, {'id': 23379}, {'id': 23385}, {'id': 23386}, {'id': 23388}]\n"
     ]
    }
   ],
   "source": [
    "import time\n",
    "t0=time.time()\n",
    "\n",
    "keyword_IDs =  G.run('''//class projection\n",
    "MATCH  (s:Sentence)-[o:HAS_OPINION_ON]->(k:Keyword) \n",
    "  \n",
    " return distinct(ID(k)) as id\n",
    " ''').data()\n",
    "t1=time.time()\n",
    "print(\"Time: \", t1-t0)\n",
    "print(keyword_IDs)\n",
    "# class_IDs = pd.DataFrame(class_IDs)\n"
   ]
  },
  {
   "cell_type": "code",
   "execution_count": 58,
   "metadata": {},
   "outputs": [],
   "source": [
    "\n",
    "keyword_IDs = pd.DataFrame(keyword_IDs)\n",
    "Key_id_list =list(keyword_IDs[\"id\"])\n",
    "# Key_id_list"
   ]
  },
  {
   "cell_type": "code",
   "execution_count": 59,
   "metadata": {},
   "outputs": [],
   "source": [
    "keyword_opinion_stats=[]\n",
    "for ID in Key_id_list:\n",
    "    keyid=ID\n",
    "    all_opinions=G.run('''\n",
    "    MATCH (k:Keyword)\n",
    "    WHERE id(k)=$keyid \n",
    "    match (s:Sentence)-[o:HAS_OPINION_ON]->(k) \n",
    "    //with count(o.polarity) as co,k\n",
    "    //where co>0 \n",
    "    return k.keyword as keyword,count(o.polarity) as all_counts''',parameters={'keyid':keyid}).data()\n",
    "    \n",
    "    neg_opinions = G.run('''\n",
    "    MATCH (k:Keyword)\n",
    "    WHERE id(k)=$keyid \n",
    "    match (s:Sentence)-[o:HAS_OPINION_ON]->(k) \n",
    "    //with count(o.polarity) as co,k\n",
    "    where o.polarity<0 \n",
    "    return count(o.polarity) as neg_counts''',parameters={'keyid':keyid}).data()\n",
    "    \n",
    "    pos_opinions = G.run('''\n",
    "    MATCH (k:Keyword)\n",
    "    WHERE id(k)=$keyid \n",
    "    match (s:Sentence)-[o:HAS_OPINION_ON]->(k) \n",
    "    //with count(o.polarity) as co,k\n",
    "    where o.polarity>0 \n",
    "    return count(o.polarity) as pos_counts''',parameters={'keyid':keyid}).data()\n",
    "    \n",
    "    neu_opinions = G.run('''\n",
    "    MATCH (k:Keyword)\n",
    "    WHERE id(k)=$keyid \n",
    "    match (s:Sentence)-[o:HAS_OPINION_ON]->(k) \n",
    "    //with count(o.polarity) as co,k\n",
    "    where o.polarity=0 \n",
    "    return count(o.polarity) as neu_counts''',parameters={'keyid':keyid}).data()\n",
    "\n",
    "    \n",
    "#     print(allkey_counts)\n",
    "    keyword_opinion_stats.append([all_opinions[0]['keyword'], all_opinions[0]['all_counts'],pos_opinions[0]['pos_counts'],neg_opinions[0]['neg_counts'],neu_opinions[0]['neu_counts']])\n",
    "# keyword_opinion_stats    "
   ]
  },
  {
   "cell_type": "code",
   "execution_count": 60,
   "metadata": {},
   "outputs": [],
   "source": [
    "Keyword_stats = pd.DataFrame(keyword_opinion_stats,columns=[\"keyword\",\"all_counts\",\"pos_counts\",\"neg_counts\",\"neu_counts\"])\n",
    "\n",
    "\n",
    "\n",
    "Keyword_stats=Keyword_stats.sort_values(['pos_counts'], ascending=False)\n",
    "\n",
    "Keyword_stats20=Keyword_stats.head(20)\n",
    "Keyword_stats20=Keyword_stats20.sort_values('all_counts', ascending=False)"
   ]
  },
  {
   "cell_type": "code",
   "execution_count": 61,
   "metadata": {},
   "outputs": [
    {
     "name": "stdout",
     "output_type": "stream",
     "text": [
      "figure7\n"
     ]
    },
    {
     "data": {
      "image/png": "[encoded data removed]",
      "text/plain": [
       "<Figure size 504x504 with 1 Axes>"
      ]
     },
     "metadata": {},
     "output_type": "display_data"
    }
   ],
   "source": [
    "import seaborn as sns\n",
    "import matplotlib.pyplot as plt\n",
    "sns.set(style=\"whitegrid\")\n",
    "\n",
    "\n",
    "# Initialize the matplotlib figure\n",
    "f, ax = plt.subplots(figsize=(7, 7))\n",
    "\n",
    "\n",
    "data= Keyword_stats20.sort_values(['neg_counts'], ascending=False)\n",
    "data= data[['keyword','all_counts','neu_counts','pos_counts', 'neg_counts']]\n",
    "# data\n",
    "\n",
    "# Plot the total crashes\n",
    "sns.set_color_codes(\"pastel\")\n",
    "sns.barplot(x=\"all_counts\", y=\"keyword\", data=data,\n",
    "            label=\"Total\", color=\"b\")\n",
    "\n",
    "# Plot the crashes where alcohol was involved\n",
    "sns.set_color_codes(\"muted\")\n",
    "sns.barplot(x=\"pos_counts\", y=\"keyword\", data=data,\n",
    "            label=\"positive\", color=\"g\")\n",
    "\n",
    "\n",
    "# Plot the crashes where alcohol was involved\n",
    "sns.set_color_codes(\"muted\")\n",
    "sns.barplot(x=\"neg_counts\", y=\"keyword\", data=data,\n",
    "            label=\"negative\", color=\"r\")\n",
    "\n",
    "# # Plot the crashes where alcohol was involved\n",
    "# sns.set_color_codes(\"muted\")\n",
    "# sns.barplot(x=\"neu_counts\", y=\"aspect_class\", data=data,\n",
    "#             label=\"neutral\", color=\"g\")\n",
    "\n",
    "\n",
    "# Add a legend and informative axis label\n",
    "ax.legend(ncol=2, loc=\"lower right\", frameon=True)\n",
    "ax.set(xlim=(0, 4110), ylabel=\"keywords\", xlabel=\"Number of opinions\")\n",
    "sns.despine(left=True, bottom=True)\n",
    "print(\"figure7\")"
   ]
  },
  {
   "cell_type": "markdown",
   "metadata": {},
   "source": [
    "<h2>Generate Opinion Statistics for the pairs of the top 20 aspect classes of the product</h2>"
   ]
  },
  {
   "cell_type": "code",
   "execution_count": 62,
   "metadata": {},
   "outputs": [],
   "source": [
    "keynames=list(Keyword_stats20['keyword'])\n",
    "\n",
    "keys=[]\n",
    "\n",
    "# for key in keynames:\n",
    "keywordids= G.run('''match (k:Keyword)\n",
    "                    WHERE k.keyword IN $keynames \n",
    "                    RETURN ID(k) as keyid''',parameters={'keynames':keynames}).data()\n",
    "\n",
    "#     keys\n",
    "\n",
    "\n",
    "\n",
    "top20_keyword_ids=pd.DataFrame(keywordids)\n"
   ]
  },
  {
   "cell_type": "code",
   "execution_count": 63,
   "metadata": {},
   "outputs": [],
   "source": [
    "key_id_list=list(top20_keyword_ids['keyid'])\n",
    "\n",
    "key_co_mentions=[]\n",
    "from itertools import combinations\n",
    "\n",
    "key_id_pairs=[]\n",
    "\n",
    "key_id_pairs=combinations(key_id_list, 2)\n",
    "key_id_pairs\n",
    "\n",
    "\n",
    "for comb in key_id_pairs:\n",
    "    c=list(comb)\n",
    "    keyword1_id= c[0]\n",
    "    keyword2_id= c[1]\n",
    "#     print(keyword1_id,keyword1_id)\n",
    "    keyword_projection =  G.run('''MATCH\n",
    "    (key1:Keyword)<-[o1:HAS_OPINION_ON]-(sent:Sentence)-[o2:HAS_OPINION_ON]->(key2:Keyword)\n",
    "    WHERE ID(key1)=$keyword1_id AND ID(key2)=$keyword2_id\n",
    "    WITH key1,key2, COUNT(DISTINCT(sent)) as sent_intsct_count\n",
    "    RETURN  key1.keyword  as keywordA, key2.keyword as keywordB, sent_intsct_count''',\n",
    "                           parameters={'keyword1_id':keyword1_id,'keyword2_id':keyword2_id}).data()\n",
    "    \n",
    "    keyword_co_pos =  G.run('''MATCH\n",
    "    (key1:Keyword)<-[o1:HAS_OPINION_ON]-(sent:Sentence)-[o2:HAS_OPINION_ON]->(key2:Keyword)\n",
    "    WHERE ID(key1)=$keyword1_id AND ID(key2)=$keyword2_id AND o1.polarity>0 AND o2.polarity>0\n",
    "    WITH key1,key2, COUNT(DISTINCT(sent)) as pos_intsct_count\n",
    "    RETURN   pos_intsct_count''',\n",
    "                           parameters={'keyword1_id':keyword1_id,'keyword2_id':keyword2_id}).data()\n",
    "    \n",
    "    keyword_co_neg =  G.run('''MATCH\n",
    "    (key1:Keyword)<-[o1:HAS_OPINION_ON]-(sent:Sentence)-[o2:HAS_OPINION_ON]->(key2:Keyword)\n",
    "    WHERE ID(key1)=$keyword1_id AND ID(key2)=$keyword2_id AND o1.polarity>0 AND o2.polarity<0\n",
    "    WITH key1,key2, COUNT(DISTINCT(sent)) as neg_intsct_count\n",
    "    RETURN   key1,key2, neg_intsct_count''',\n",
    "                           parameters={'keyword1_id':keyword1_id,'keyword2_id':keyword2_id}).data()\n",
    "    \n",
    "    if len(keyword_projection)>0:\n",
    "        \n",
    "        if len(keyword_co_neg)==0:\n",
    "            key_co_mentions.append([\n",
    "                                keyword_projection[0]['keywordA'], \n",
    "                                keyword_projection[0]['keywordB'], \n",
    "                                keyword_projection[0]['sent_intsct_count'],\n",
    "                                keyword_co_pos[0]['pos_intsct_count'],\n",
    "                                0 ])\n",
    "        else:\n",
    "        \n",
    "\n",
    "            key_co_mentions.append([\n",
    "                                    keyword_projection[0]['keywordA'], \n",
    "                                    keyword_projection[0]['keywordB'], \n",
    "                                    keyword_projection[0]['sent_intsct_count'],\n",
    "                                    keyword_co_pos[0]['pos_intsct_count'],\n",
    "                                    keyword_co_neg[0]['neg_intsct_count']\n",
    "            ])\n",
    "\n",
    "\n",
    "\n"
   ]
  },
  {
   "cell_type": "code",
   "execution_count": 65,
   "metadata": {},
   "outputs": [
    {
     "data": {
      "text/html": [
       "<div>\n",
       "<style scoped>\n",
       "    .dataframe tbody tr th:only-of-type {\n",
       "        vertical-align: middle;\n",
       "    }\n",
       "\n",
       "    .dataframe tbody tr th {\n",
       "        vertical-align: top;\n",
       "    }\n",
       "\n",
       "    .dataframe thead th {\n",
       "        text-align: right;\n",
       "    }\n",
       "</style>\n",
       "<table border=\"1\" class=\"dataframe\">\n",
       "  <thead>\n",
       "    <tr style=\"text-align: right;\">\n",
       "      <th></th>\n",
       "      <th>keyword1</th>\n",
       "      <th>keyword2</th>\n",
       "      <th>total</th>\n",
       "      <th>positive</th>\n",
       "      <th>negative</th>\n",
       "    </tr>\n",
       "  </thead>\n",
       "  <tbody>\n",
       "    <tr>\n",
       "      <th>6</th>\n",
       "      <td>os</td>\n",
       "      <td>chromebook</td>\n",
       "      <td>662</td>\n",
       "      <td>212</td>\n",
       "      <td>26</td>\n",
       "    </tr>\n",
       "    <tr>\n",
       "      <th>5</th>\n",
       "      <td>os</td>\n",
       "      <td>laptop</td>\n",
       "      <td>500</td>\n",
       "      <td>179</td>\n",
       "      <td>19</td>\n",
       "    </tr>\n",
       "    <tr>\n",
       "      <th>112</th>\n",
       "      <td>chromebook</td>\n",
       "      <td>computer</td>\n",
       "      <td>326</td>\n",
       "      <td>128</td>\n",
       "      <td>17</td>\n",
       "    </tr>\n",
       "    <tr>\n",
       "      <th>3</th>\n",
       "      <td>os</td>\n",
       "      <td>port</td>\n",
       "      <td>244</td>\n",
       "      <td>75</td>\n",
       "      <td>14</td>\n",
       "    </tr>\n",
       "    <tr>\n",
       "      <th>119</th>\n",
       "      <td>chromebook</td>\n",
       "      <td>screen</td>\n",
       "      <td>156</td>\n",
       "      <td>54</td>\n",
       "      <td>14</td>\n",
       "    </tr>\n",
       "    <tr>\n",
       "      <th>0</th>\n",
       "      <td>os</td>\n",
       "      <td>windows</td>\n",
       "      <td>227</td>\n",
       "      <td>73</td>\n",
       "      <td>13</td>\n",
       "    </tr>\n",
       "    <tr>\n",
       "      <th>16</th>\n",
       "      <td>os</td>\n",
       "      <td>keyboard</td>\n",
       "      <td>227</td>\n",
       "      <td>107</td>\n",
       "      <td>12</td>\n",
       "    </tr>\n",
       "    <tr>\n",
       "      <th>100</th>\n",
       "      <td>laptop</td>\n",
       "      <td>computer</td>\n",
       "      <td>204</td>\n",
       "      <td>77</td>\n",
       "      <td>11</td>\n",
       "    </tr>\n",
       "    <tr>\n",
       "      <th>1</th>\n",
       "      <td>os</td>\n",
       "      <td>wifi</td>\n",
       "      <td>92</td>\n",
       "      <td>25</td>\n",
       "      <td>11</td>\n",
       "    </tr>\n",
       "    <tr>\n",
       "      <th>7</th>\n",
       "      <td>os</td>\n",
       "      <td>computer</td>\n",
       "      <td>447</td>\n",
       "      <td>153</td>\n",
       "      <td>9</td>\n",
       "    </tr>\n",
       "    <tr>\n",
       "      <th>99</th>\n",
       "      <td>laptop</td>\n",
       "      <td>chromebook</td>\n",
       "      <td>389</td>\n",
       "      <td>139</td>\n",
       "      <td>9</td>\n",
       "    </tr>\n",
       "    <tr>\n",
       "      <th>14</th>\n",
       "      <td>os</td>\n",
       "      <td>screen</td>\n",
       "      <td>236</td>\n",
       "      <td>79</td>\n",
       "      <td>9</td>\n",
       "    </tr>\n",
       "    <tr>\n",
       "      <th>72</th>\n",
       "      <td>port</td>\n",
       "      <td>chromebook</td>\n",
       "      <td>181</td>\n",
       "      <td>59</td>\n",
       "      <td>9</td>\n",
       "    </tr>\n",
       "    <tr>\n",
       "      <th>18</th>\n",
       "      <td>os</td>\n",
       "      <td>battery</td>\n",
       "      <td>195</td>\n",
       "      <td>87</td>\n",
       "      <td>8</td>\n",
       "    </tr>\n",
       "    <tr>\n",
       "      <th>4</th>\n",
       "      <td>os</td>\n",
       "      <td>connect</td>\n",
       "      <td>153</td>\n",
       "      <td>39</td>\n",
       "      <td>8</td>\n",
       "    </tr>\n",
       "    <tr>\n",
       "      <th>134</th>\n",
       "      <td>computer</td>\n",
       "      <td>battery</td>\n",
       "      <td>100</td>\n",
       "      <td>48</td>\n",
       "      <td>8</td>\n",
       "    </tr>\n",
       "    <tr>\n",
       "      <th>130</th>\n",
       "      <td>computer</td>\n",
       "      <td>screen</td>\n",
       "      <td>99</td>\n",
       "      <td>41</td>\n",
       "      <td>8</td>\n",
       "    </tr>\n",
       "    <tr>\n",
       "      <th>104</th>\n",
       "      <td>laptop</td>\n",
       "      <td>product</td>\n",
       "      <td>83</td>\n",
       "      <td>31</td>\n",
       "      <td>8</td>\n",
       "    </tr>\n",
       "    <tr>\n",
       "      <th>157</th>\n",
       "      <td>machine</td>\n",
       "      <td>screen</td>\n",
       "      <td>40</td>\n",
       "      <td>16</td>\n",
       "      <td>8</td>\n",
       "    </tr>\n",
       "    <tr>\n",
       "      <th>58</th>\n",
       "      <td>wan</td>\n",
       "      <td>computer</td>\n",
       "      <td>188</td>\n",
       "      <td>67</td>\n",
       "      <td>7</td>\n",
       "    </tr>\n",
       "  </tbody>\n",
       "</table>\n",
       "</div>"
      ],
      "text/plain": [
       "       keyword1    keyword2  total  positive  negative\n",
       "6            os  chromebook    662       212        26\n",
       "5            os      laptop    500       179        19\n",
       "112  chromebook    computer    326       128        17\n",
       "3            os        port    244        75        14\n",
       "119  chromebook      screen    156        54        14\n",
       "0            os     windows    227        73        13\n",
       "16           os    keyboard    227       107        12\n",
       "100      laptop    computer    204        77        11\n",
       "1            os        wifi     92        25        11\n",
       "7            os    computer    447       153         9\n",
       "99       laptop  chromebook    389       139         9\n",
       "14           os      screen    236        79         9\n",
       "72         port  chromebook    181        59         9\n",
       "18           os     battery    195        87         8\n",
       "4            os     connect    153        39         8\n",
       "134    computer     battery    100        48         8\n",
       "130    computer      screen     99        41         8\n",
       "104      laptop     product     83        31         8\n",
       "157     machine      screen     40        16         8\n",
       "58          wan    computer    188        67         7"
      ]
     },
     "execution_count": 65,
     "metadata": {},
     "output_type": "execute_result"
    }
   ],
   "source": [
    "\n",
    "Keyword_co_mentions_stats = pd.DataFrame(key_co_mentions,columns=[\"keyword1\",\"keyword2\",\"total\",\"positive\",\"negative\"])\n",
    "Keyword_co_mentions_stats.sort_values([\"negative\",\"total\"], ascending=False).head(20)"
   ]
  },
  {
   "cell_type": "code",
   "execution_count": 66,
   "metadata": {},
   "outputs": [
    {
     "data": {
      "text/html": [
       "<div>\n",
       "<style scoped>\n",
       "    .dataframe tbody tr th:only-of-type {\n",
       "        vertical-align: middle;\n",
       "    }\n",
       "\n",
       "    .dataframe tbody tr th {\n",
       "        vertical-align: top;\n",
       "    }\n",
       "\n",
       "    .dataframe thead th {\n",
       "        text-align: right;\n",
       "    }\n",
       "</style>\n",
       "<table border=\"1\" class=\"dataframe\">\n",
       "  <thead>\n",
       "    <tr style=\"text-align: right;\">\n",
       "      <th></th>\n",
       "      <th>keyword1</th>\n",
       "      <th>keyword2</th>\n",
       "      <th>total</th>\n",
       "      <th>positive</th>\n",
       "      <th>negative</th>\n",
       "    </tr>\n",
       "  </thead>\n",
       "  <tbody>\n",
       "    <tr>\n",
       "      <th>6</th>\n",
       "      <td>os</td>\n",
       "      <td>chromebook</td>\n",
       "      <td>662</td>\n",
       "      <td>212</td>\n",
       "      <td>26</td>\n",
       "    </tr>\n",
       "    <tr>\n",
       "      <th>5</th>\n",
       "      <td>os</td>\n",
       "      <td>laptop</td>\n",
       "      <td>500</td>\n",
       "      <td>179</td>\n",
       "      <td>19</td>\n",
       "    </tr>\n",
       "    <tr>\n",
       "      <th>7</th>\n",
       "      <td>os</td>\n",
       "      <td>computer</td>\n",
       "      <td>447</td>\n",
       "      <td>153</td>\n",
       "      <td>9</td>\n",
       "    </tr>\n",
       "    <tr>\n",
       "      <th>99</th>\n",
       "      <td>laptop</td>\n",
       "      <td>chromebook</td>\n",
       "      <td>389</td>\n",
       "      <td>139</td>\n",
       "      <td>9</td>\n",
       "    </tr>\n",
       "    <tr>\n",
       "      <th>15</th>\n",
       "      <td>os</td>\n",
       "      <td>video</td>\n",
       "      <td>359</td>\n",
       "      <td>135</td>\n",
       "      <td>5</td>\n",
       "    </tr>\n",
       "    <tr>\n",
       "      <th>112</th>\n",
       "      <td>chromebook</td>\n",
       "      <td>computer</td>\n",
       "      <td>326</td>\n",
       "      <td>128</td>\n",
       "      <td>17</td>\n",
       "    </tr>\n",
       "    <tr>\n",
       "      <th>3</th>\n",
       "      <td>os</td>\n",
       "      <td>port</td>\n",
       "      <td>244</td>\n",
       "      <td>75</td>\n",
       "      <td>14</td>\n",
       "    </tr>\n",
       "    <tr>\n",
       "      <th>14</th>\n",
       "      <td>os</td>\n",
       "      <td>screen</td>\n",
       "      <td>236</td>\n",
       "      <td>79</td>\n",
       "      <td>9</td>\n",
       "    </tr>\n",
       "    <tr>\n",
       "      <th>2</th>\n",
       "      <td>os</td>\n",
       "      <td>wan</td>\n",
       "      <td>231</td>\n",
       "      <td>69</td>\n",
       "      <td>6</td>\n",
       "    </tr>\n",
       "    <tr>\n",
       "      <th>0</th>\n",
       "      <td>os</td>\n",
       "      <td>windows</td>\n",
       "      <td>227</td>\n",
       "      <td>73</td>\n",
       "      <td>13</td>\n",
       "    </tr>\n",
       "    <tr>\n",
       "      <th>16</th>\n",
       "      <td>os</td>\n",
       "      <td>keyboard</td>\n",
       "      <td>227</td>\n",
       "      <td>107</td>\n",
       "      <td>12</td>\n",
       "    </tr>\n",
       "    <tr>\n",
       "      <th>56</th>\n",
       "      <td>wan</td>\n",
       "      <td>laptop</td>\n",
       "      <td>212</td>\n",
       "      <td>70</td>\n",
       "      <td>6</td>\n",
       "    </tr>\n",
       "    <tr>\n",
       "      <th>100</th>\n",
       "      <td>laptop</td>\n",
       "      <td>computer</td>\n",
       "      <td>204</td>\n",
       "      <td>77</td>\n",
       "      <td>11</td>\n",
       "    </tr>\n",
       "    <tr>\n",
       "      <th>18</th>\n",
       "      <td>os</td>\n",
       "      <td>battery</td>\n",
       "      <td>195</td>\n",
       "      <td>87</td>\n",
       "      <td>8</td>\n",
       "    </tr>\n",
       "    <tr>\n",
       "      <th>181</th>\n",
       "      <td>screen</td>\n",
       "      <td>keyboard</td>\n",
       "      <td>191</td>\n",
       "      <td>119</td>\n",
       "      <td>6</td>\n",
       "    </tr>\n",
       "    <tr>\n",
       "      <th>58</th>\n",
       "      <td>wan</td>\n",
       "      <td>computer</td>\n",
       "      <td>188</td>\n",
       "      <td>67</td>\n",
       "      <td>7</td>\n",
       "    </tr>\n",
       "    <tr>\n",
       "      <th>13</th>\n",
       "      <td>os</td>\n",
       "      <td>fast</td>\n",
       "      <td>184</td>\n",
       "      <td>81</td>\n",
       "      <td>6</td>\n",
       "    </tr>\n",
       "    <tr>\n",
       "      <th>57</th>\n",
       "      <td>wan</td>\n",
       "      <td>chromebook</td>\n",
       "      <td>183</td>\n",
       "      <td>67</td>\n",
       "      <td>3</td>\n",
       "    </tr>\n",
       "    <tr>\n",
       "      <th>72</th>\n",
       "      <td>port</td>\n",
       "      <td>chromebook</td>\n",
       "      <td>181</td>\n",
       "      <td>59</td>\n",
       "      <td>9</td>\n",
       "    </tr>\n",
       "    <tr>\n",
       "      <th>10</th>\n",
       "      <td>os</td>\n",
       "      <td>machine</td>\n",
       "      <td>177</td>\n",
       "      <td>66</td>\n",
       "      <td>6</td>\n",
       "    </tr>\n",
       "  </tbody>\n",
       "</table>\n",
       "</div>"
      ],
      "text/plain": [
       "       keyword1    keyword2  total  positive  negative\n",
       "6            os  chromebook    662       212        26\n",
       "5            os      laptop    500       179        19\n",
       "7            os    computer    447       153         9\n",
       "99       laptop  chromebook    389       139         9\n",
       "15           os       video    359       135         5\n",
       "112  chromebook    computer    326       128        17\n",
       "3            os        port    244        75        14\n",
       "14           os      screen    236        79         9\n",
       "2            os         wan    231        69         6\n",
       "0            os     windows    227        73        13\n",
       "16           os    keyboard    227       107        12\n",
       "56          wan      laptop    212        70         6\n",
       "100      laptop    computer    204        77        11\n",
       "18           os     battery    195        87         8\n",
       "181      screen    keyboard    191       119         6\n",
       "58          wan    computer    188        67         7\n",
       "13           os        fast    184        81         6\n",
       "57          wan  chromebook    183        67         3\n",
       "72         port  chromebook    181        59         9\n",
       "10           os     machine    177        66         6"
      ]
     },
     "execution_count": 66,
     "metadata": {},
     "output_type": "execute_result"
    }
   ],
   "source": [
    "Keyword_co_mentions_stats = pd.DataFrame(key_co_mentions,columns=[\"keyword1\",\"keyword2\",\"total\",\"positive\",\"negative\"])\n",
    "keypairstats=Keyword_co_mentions_stats.sort_values([\"total\",\"negative\"], ascending=False).head(20)\n",
    "keypairstats"
   ]
  },
  {
   "cell_type": "code",
   "execution_count": 67,
   "metadata": {},
   "outputs": [
    {
     "data": {
      "text/html": [
       "<div>\n",
       "<style scoped>\n",
       "    .dataframe tbody tr th:only-of-type {\n",
       "        vertical-align: middle;\n",
       "    }\n",
       "\n",
       "    .dataframe tbody tr th {\n",
       "        vertical-align: top;\n",
       "    }\n",
       "\n",
       "    .dataframe thead th {\n",
       "        text-align: right;\n",
       "    }\n",
       "</style>\n",
       "<table border=\"1\" class=\"dataframe\">\n",
       "  <thead>\n",
       "    <tr style=\"text-align: right;\">\n",
       "      <th></th>\n",
       "      <th>keyword1</th>\n",
       "      <th>keyword2</th>\n",
       "      <th>total</th>\n",
       "      <th>positive</th>\n",
       "      <th>negative</th>\n",
       "      <th>pairs</th>\n",
       "    </tr>\n",
       "  </thead>\n",
       "  <tbody>\n",
       "    <tr>\n",
       "      <th>6</th>\n",
       "      <td>os</td>\n",
       "      <td>chromebook</td>\n",
       "      <td>662</td>\n",
       "      <td>212</td>\n",
       "      <td>26</td>\n",
       "      <td>os,chromebook</td>\n",
       "    </tr>\n",
       "    <tr>\n",
       "      <th>5</th>\n",
       "      <td>os</td>\n",
       "      <td>laptop</td>\n",
       "      <td>500</td>\n",
       "      <td>179</td>\n",
       "      <td>19</td>\n",
       "      <td>os,laptop</td>\n",
       "    </tr>\n",
       "    <tr>\n",
       "      <th>7</th>\n",
       "      <td>os</td>\n",
       "      <td>computer</td>\n",
       "      <td>447</td>\n",
       "      <td>153</td>\n",
       "      <td>9</td>\n",
       "      <td>os,computer</td>\n",
       "    </tr>\n",
       "    <tr>\n",
       "      <th>99</th>\n",
       "      <td>laptop</td>\n",
       "      <td>chromebook</td>\n",
       "      <td>389</td>\n",
       "      <td>139</td>\n",
       "      <td>9</td>\n",
       "      <td>laptop,chromebook</td>\n",
       "    </tr>\n",
       "    <tr>\n",
       "      <th>15</th>\n",
       "      <td>os</td>\n",
       "      <td>video</td>\n",
       "      <td>359</td>\n",
       "      <td>135</td>\n",
       "      <td>5</td>\n",
       "      <td>os,video</td>\n",
       "    </tr>\n",
       "    <tr>\n",
       "      <th>112</th>\n",
       "      <td>chromebook</td>\n",
       "      <td>computer</td>\n",
       "      <td>326</td>\n",
       "      <td>128</td>\n",
       "      <td>17</td>\n",
       "      <td>chromebook,computer</td>\n",
       "    </tr>\n",
       "    <tr>\n",
       "      <th>3</th>\n",
       "      <td>os</td>\n",
       "      <td>port</td>\n",
       "      <td>244</td>\n",
       "      <td>75</td>\n",
       "      <td>14</td>\n",
       "      <td>os,port</td>\n",
       "    </tr>\n",
       "    <tr>\n",
       "      <th>14</th>\n",
       "      <td>os</td>\n",
       "      <td>screen</td>\n",
       "      <td>236</td>\n",
       "      <td>79</td>\n",
       "      <td>9</td>\n",
       "      <td>os,screen</td>\n",
       "    </tr>\n",
       "    <tr>\n",
       "      <th>2</th>\n",
       "      <td>os</td>\n",
       "      <td>wan</td>\n",
       "      <td>231</td>\n",
       "      <td>69</td>\n",
       "      <td>6</td>\n",
       "      <td>os,wan</td>\n",
       "    </tr>\n",
       "    <tr>\n",
       "      <th>0</th>\n",
       "      <td>os</td>\n",
       "      <td>windows</td>\n",
       "      <td>227</td>\n",
       "      <td>73</td>\n",
       "      <td>13</td>\n",
       "      <td>os,windows</td>\n",
       "    </tr>\n",
       "    <tr>\n",
       "      <th>16</th>\n",
       "      <td>os</td>\n",
       "      <td>keyboard</td>\n",
       "      <td>227</td>\n",
       "      <td>107</td>\n",
       "      <td>12</td>\n",
       "      <td>os,keyboard</td>\n",
       "    </tr>\n",
       "    <tr>\n",
       "      <th>56</th>\n",
       "      <td>wan</td>\n",
       "      <td>laptop</td>\n",
       "      <td>212</td>\n",
       "      <td>70</td>\n",
       "      <td>6</td>\n",
       "      <td>wan,laptop</td>\n",
       "    </tr>\n",
       "    <tr>\n",
       "      <th>100</th>\n",
       "      <td>laptop</td>\n",
       "      <td>computer</td>\n",
       "      <td>204</td>\n",
       "      <td>77</td>\n",
       "      <td>11</td>\n",
       "      <td>laptop,computer</td>\n",
       "    </tr>\n",
       "    <tr>\n",
       "      <th>18</th>\n",
       "      <td>os</td>\n",
       "      <td>battery</td>\n",
       "      <td>195</td>\n",
       "      <td>87</td>\n",
       "      <td>8</td>\n",
       "      <td>os,battery</td>\n",
       "    </tr>\n",
       "    <tr>\n",
       "      <th>181</th>\n",
       "      <td>screen</td>\n",
       "      <td>keyboard</td>\n",
       "      <td>191</td>\n",
       "      <td>119</td>\n",
       "      <td>6</td>\n",
       "      <td>screen,keyboard</td>\n",
       "    </tr>\n",
       "    <tr>\n",
       "      <th>58</th>\n",
       "      <td>wan</td>\n",
       "      <td>computer</td>\n",
       "      <td>188</td>\n",
       "      <td>67</td>\n",
       "      <td>7</td>\n",
       "      <td>wan,computer</td>\n",
       "    </tr>\n",
       "    <tr>\n",
       "      <th>13</th>\n",
       "      <td>os</td>\n",
       "      <td>fast</td>\n",
       "      <td>184</td>\n",
       "      <td>81</td>\n",
       "      <td>6</td>\n",
       "      <td>os,fast</td>\n",
       "    </tr>\n",
       "    <tr>\n",
       "      <th>57</th>\n",
       "      <td>wan</td>\n",
       "      <td>chromebook</td>\n",
       "      <td>183</td>\n",
       "      <td>67</td>\n",
       "      <td>3</td>\n",
       "      <td>wan,chromebook</td>\n",
       "    </tr>\n",
       "    <tr>\n",
       "      <th>72</th>\n",
       "      <td>port</td>\n",
       "      <td>chromebook</td>\n",
       "      <td>181</td>\n",
       "      <td>59</td>\n",
       "      <td>9</td>\n",
       "      <td>port,chromebook</td>\n",
       "    </tr>\n",
       "    <tr>\n",
       "      <th>10</th>\n",
       "      <td>os</td>\n",
       "      <td>machine</td>\n",
       "      <td>177</td>\n",
       "      <td>66</td>\n",
       "      <td>6</td>\n",
       "      <td>os,machine</td>\n",
       "    </tr>\n",
       "  </tbody>\n",
       "</table>\n",
       "</div>"
      ],
      "text/plain": [
       "       keyword1    keyword2  total  positive  negative                pairs\n",
       "6            os  chromebook    662       212        26        os,chromebook\n",
       "5            os      laptop    500       179        19            os,laptop\n",
       "7            os    computer    447       153         9          os,computer\n",
       "99       laptop  chromebook    389       139         9    laptop,chromebook\n",
       "15           os       video    359       135         5             os,video\n",
       "112  chromebook    computer    326       128        17  chromebook,computer\n",
       "3            os        port    244        75        14              os,port\n",
       "14           os      screen    236        79         9            os,screen\n",
       "2            os         wan    231        69         6               os,wan\n",
       "0            os     windows    227        73        13           os,windows\n",
       "16           os    keyboard    227       107        12          os,keyboard\n",
       "56          wan      laptop    212        70         6           wan,laptop\n",
       "100      laptop    computer    204        77        11      laptop,computer\n",
       "18           os     battery    195        87         8           os,battery\n",
       "181      screen    keyboard    191       119         6      screen,keyboard\n",
       "58          wan    computer    188        67         7         wan,computer\n",
       "13           os        fast    184        81         6              os,fast\n",
       "57          wan  chromebook    183        67         3       wan,chromebook\n",
       "72         port  chromebook    181        59         9      port,chromebook\n",
       "10           os     machine    177        66         6           os,machine"
      ]
     },
     "execution_count": 67,
     "metadata": {},
     "output_type": "execute_result"
    }
   ],
   "source": [
    "keypairstats[\"pairs\"]=keypairstats[\"keyword1\"] + \",\" + keypairstats[\"keyword2\"] \n",
    "keypairstats"
   ]
  },
  {
   "cell_type": "code",
   "execution_count": 68,
   "metadata": {},
   "outputs": [
    {
     "data": {
      "image/png": "[encoded data removed]",
      "text/plain": [
       "<Figure size 576x360 with 1 Axes>"
      ]
     },
     "metadata": {},
     "output_type": "display_data"
    }
   ],
   "source": [
    "import seaborn as sns\n",
    "import matplotlib.pyplot as plt\n",
    "sns.set(style=\"whitegrid\")\n",
    "\n",
    "\n",
    "# Initialize the matplotlib figure\n",
    "f, ax = plt.subplots(figsize=(8, 5))\n",
    "\n",
    "\n",
    "# data= Keyword_stats20.sort_values(['all_counts'], ascending=False)\n",
    "data= keypairstats[['total','positive','negative','pairs']]\n",
    "# data\n",
    "\n",
    "# Plot the total crashes\n",
    "sns.set_color_codes(\"pastel\")\n",
    "sns.barplot(x=\"total\", y=\"pairs\", data=data,\n",
    "            label=\"Total\", color=\"b\")\n",
    "\n",
    "# Plot the crashes where alcohol was involved\n",
    "sns.set_color_codes(\"muted\")\n",
    "sns.barplot(x=\"positive\", y=\"pairs\", data=data,\n",
    "            label=\"positive\", color=\"g\")\n",
    "\n",
    "\n",
    "# Plot the crashes where alcohol was involved\n",
    "sns.set_color_codes(\"muted\")\n",
    "sns.barplot(x=\"negative\", y=\"pairs\", data=data,\n",
    "            label=\"negative\", color=\"r\")\n",
    "\n",
    "# # Plot the crashes where alcohol was involved\n",
    "# sns.set_color_codes(\"muted\")\n",
    "# sns.barplot(x=\"neu_counts\", y=\"aspect_class\", data=data,\n",
    "#             label=\"neutral\", color=\"g\")\n",
    "\n",
    "\n",
    "# Add a legend and informative axis label\n",
    "ax.legend(ncol=2, loc=\"lower right\", frameon=True)\n",
    "# ax.set(xlim=(0, 665), ylabel=\"keyword pairs\", xlabel=\"Number of opinions\")\n",
    "ax.set( ylabel=\"keyword pairs\", xlabel=\"Number of opinions\")\n",
    "sns.despine(left=True, bottom=True)"
   ]
  },
  {
   "cell_type": "markdown",
   "metadata": {},
   "source": [
    "<H2>Top N aspect class co-mentions</H2>"
   ]
  },
  {
   "cell_type": "code",
   "execution_count": 71,
   "metadata": {},
   "outputs": [],
   "source": [
    "id_list=list(class_IDs.id)\n",
    "\n",
    "co_mentions=[]\n",
    "from itertools import combinations\n",
    "\n",
    "id_pairs=[]\n",
    "\n",
    "id_pairs=combinations(id_list, 2)\n",
    "for comb in id_pairs:\n",
    "    c=list(comb)\n",
    "    class1_id= c[0]\n",
    "    class2_id=c[1]\n",
    "#     print(class1,class2)\n",
    "    rev_projected =  G.run('''//class projection\n",
    "    MATCH \n",
    "     (class1:Class)<-[:BELONGS_TO]-(key1:Keyword)<-[o1:HAS_OPINION_ON]-(sent1:Sentence)<-[:HAS_SENTENCE]-(rev:Review)-[:HAS_SENTENCE]->(sent2:Sentence)- [o2:HAS_OPINION_ON]->(key2:Keyword)-[:BELONGS_TO]-> (class2:Class)\n",
    "    WHERE ID(class1)=$class1_id and ID(class2)=$class2_id\n",
    "    WITH class1,class2,count(DISTINCT(rev)) as rev_intsct_count\n",
    "    return class1.name as classA,class2.name as classB,rev_intsct_count\n",
    "       //return  rev.review_id,o.polarity,class.name\n",
    "     ''', parameters={'class1_id':class1_id, \"class2_id\":class2_id}).data()\n",
    "    if len(rev_projected)>0:\n",
    "        \n",
    "#         print([rev_projected[0][\"classA\"],rev_projected[0][\"classB\"],rev_projected[0][\"rev_intsct_count\"]])\n",
    "        \n",
    "        co_mentions.append([rev_projected[0][\"classA\"],rev_projected[0][\"classB\"],rev_projected[0][\"rev_intsct_count\"]])\n",
    "#     //=pd.DataFrame(rev_projected)\n",
    "#     print(comb)\n"
   ]
  },
  {
   "cell_type": "code",
   "execution_count": 72,
   "metadata": {},
   "outputs": [
    {
     "data": {
      "text/plain": [
       "126"
      ]
     },
     "execution_count": 72,
     "metadata": {},
     "output_type": "execute_result"
    }
   ],
   "source": [
    "len(co_mentions)"
   ]
  },
  {
   "cell_type": "code",
   "execution_count": 73,
   "metadata": {},
   "outputs": [
    {
     "data": {
      "text/html": [
       "<div>\n",
       "<style scoped>\n",
       "    .dataframe tbody tr th:only-of-type {\n",
       "        vertical-align: middle;\n",
       "    }\n",
       "\n",
       "    .dataframe tbody tr th {\n",
       "        vertical-align: top;\n",
       "    }\n",
       "\n",
       "    .dataframe thead th {\n",
       "        text-align: right;\n",
       "    }\n",
       "</style>\n",
       "<table border=\"1\" class=\"dataframe\">\n",
       "  <thead>\n",
       "    <tr style=\"text-align: right;\">\n",
       "      <th></th>\n",
       "      <th>class1</th>\n",
       "      <th>class2</th>\n",
       "      <th>count</th>\n",
       "    </tr>\n",
       "  </thead>\n",
       "  <tbody>\n",
       "    <tr>\n",
       "      <th>1</th>\n",
       "      <td>OS</td>\n",
       "      <td>LAPTOP</td>\n",
       "      <td>1632</td>\n",
       "    </tr>\n",
       "    <tr>\n",
       "      <th>16</th>\n",
       "      <td>CONNECTIVITY</td>\n",
       "      <td>LAPTOP</td>\n",
       "      <td>1534</td>\n",
       "    </tr>\n",
       "    <tr>\n",
       "      <th>0</th>\n",
       "      <td>OS</td>\n",
       "      <td>CONNECTIVITY</td>\n",
       "      <td>1106</td>\n",
       "    </tr>\n",
       "    <tr>\n",
       "      <th>33</th>\n",
       "      <td>LAPTOP</td>\n",
       "      <td>DISPLAY</td>\n",
       "      <td>1033</td>\n",
       "    </tr>\n",
       "    <tr>\n",
       "      <th>32</th>\n",
       "      <td>LAPTOP</td>\n",
       "      <td>PERFORMANCE</td>\n",
       "      <td>926</td>\n",
       "    </tr>\n",
       "    <tr>\n",
       "      <th>34</th>\n",
       "      <td>LAPTOP</td>\n",
       "      <td>KEYBOARD</td>\n",
       "      <td>801</td>\n",
       "    </tr>\n",
       "    <tr>\n",
       "      <th>4</th>\n",
       "      <td>OS</td>\n",
       "      <td>DISPLAY</td>\n",
       "      <td>776</td>\n",
       "    </tr>\n",
       "    <tr>\n",
       "      <th>37</th>\n",
       "      <td>LAPTOP</td>\n",
       "      <td>BATTERY</td>\n",
       "      <td>770</td>\n",
       "    </tr>\n",
       "    <tr>\n",
       "      <th>19</th>\n",
       "      <td>CONNECTIVITY</td>\n",
       "      <td>DISPLAY</td>\n",
       "      <td>706</td>\n",
       "    </tr>\n",
       "    <tr>\n",
       "      <th>3</th>\n",
       "      <td>OS</td>\n",
       "      <td>PERFORMANCE</td>\n",
       "      <td>668</td>\n",
       "    </tr>\n",
       "  </tbody>\n",
       "</table>\n",
       "</div>"
      ],
      "text/plain": [
       "          class1        class2  count\n",
       "1             OS        LAPTOP   1632\n",
       "16  CONNECTIVITY        LAPTOP   1534\n",
       "0             OS  CONNECTIVITY   1106\n",
       "33        LAPTOP       DISPLAY   1033\n",
       "32        LAPTOP   PERFORMANCE    926\n",
       "34        LAPTOP      KEYBOARD    801\n",
       "4             OS       DISPLAY    776\n",
       "37        LAPTOP       BATTERY    770\n",
       "19  CONNECTIVITY       DISPLAY    706\n",
       "3             OS   PERFORMANCE    668"
      ]
     },
     "execution_count": 73,
     "metadata": {},
     "output_type": "execute_result"
    }
   ],
   "source": [
    "co_mentioned = pd.DataFrame(co_mentions,columns=[\"class1\",\"class2\",\"count\"])\n",
    "# co_mentioned.head()\n",
    "sorted_co_mentioned = co_mentioned.sort_values('count', ascending=False)\n",
    "\n",
    "N=10\n",
    "sorted_co_mentioned.head(N)\n"
   ]
  },
  {
   "cell_type": "code",
   "execution_count": 75,
   "metadata": {},
   "outputs": [
    {
     "data": {
      "image/png": "[encoded data removed]",
      "text/plain": [
       "<Figure size 576x360 with 1 Axes>"
      ]
     },
     "metadata": {},
     "output_type": "display_data"
    }
   ],
   "source": [
    "import networkx as nx\n",
    "Dall=nx.DiGraph()\n",
    "Dall.add_weighted_edges_from(co_mentions)\n",
    "all_pagerank=nx.pagerank(Dall)\n",
    "\n",
    "# all_pagerank\n",
    "\n",
    "df_all_pagerank=pd.DataFrame.from_dict(all_pagerank,orient='index',columns=[\"rank\"])\n",
    "# df_negPageRank['aspect_class']=df_negPageRank.index\n",
    "df_all_pagerank.reset_index(level=0, inplace=True)\n",
    "df_all_pagerank=df_all_pagerank.rename(columns={'index':'aspect_class'})\n",
    "df_all_pagerank=df_all_pagerank.sort_values('rank', ascending=False)\n",
    "# df_all_pagerank\n",
    "\n",
    "import seaborn as sns\n",
    "import matplotlib.pyplot as plt\n",
    "sns.set(style=\"whitegrid\")\n",
    "\n",
    "\n",
    "# Initialize the matplotlib figure\n",
    "f, ax = plt.subplots(figsize=(8, 5))\n",
    "\n",
    "# data=df_all_pagerank\n",
    "\n",
    "# Plot the total crashes\n",
    "sns.set_color_codes(\"pastel\")\n",
    "sns.barplot(x=\"rank\", y=\"aspect_class\", data=df_all_pagerank,\n",
    "            label=\"Total\", color=\"b\")\n",
    "\n",
    "\n",
    "# Add a legend and informative axis label\n",
    "ax.legend(ncol=2, loc=\"lower right\", frameon=True)\n",
    "ax.set( ylabel=\"aspect classes\", xlabel=\"Aspect class rank score (all co-mentions) \")\n",
    "# ax.set(xlim=(0, 1), ylabel=\"aspect classes\", xlabel=\"Aspect class rank score (all co-mentions) \")\n",
    "sns.despine(left=True, bottom=True)"
   ]
  },
  {
   "cell_type": "markdown",
   "metadata": {},
   "source": [
    "<H2>Top N negative aspect class co-mentoins</H2>"
   ]
  },
  {
   "cell_type": "code",
   "execution_count": 76,
   "metadata": {},
   "outputs": [],
   "source": [
    "neg_co_mentions=[]\n",
    "\n",
    "id_pairs=combinations(id_list, 2)\n",
    "for comb in id_pairs:\n",
    "    c=list(comb)\n",
    "    class1_id= c[0]\n",
    "    class2_id=c[1]\n",
    "#     print(class1_id,class2_id)\n",
    "    neg_rev_projected =  G.run('''//class projection\n",
    "    MATCH \n",
    "     (class1:Class)<-[:BELONGS_TO]-(key1:Keyword)<-[o1:HAS_OPINION_ON]-(sent1:Sentence)<-[:HAS_SENTENCE]-(rev:Review)-[:HAS_SENTENCE]->(sent2:Sentence)- [o2:HAS_OPINION_ON]->(key2:Keyword)-[:BELONGS_TO]-> (class2:Class)\n",
    "    WHERE ID(class1)=$class1_id and ID(class2)=$class2_id and o1.polarity<0 and o2.polarity<0\n",
    "    WITH class1,class2,count(DISTINCT(rev)) as rev_intsct_count\n",
    "    return class1.name as classA,class2.name as classB,rev_intsct_count\n",
    "       //return  rev.review_id,o.polarity,class.name\n",
    "     ''', parameters={'class1_id':class1_id, \"class2_id\":class2_id}).data()\n",
    "    if len(neg_rev_projected)>0:\n",
    "        \n",
    "#         print([rev_projected[0][\"classA\"],rev_projected[0][\"classB\"],rev_projected[0][\"rev_intsct_count\"]])\n",
    "        \n",
    "        neg_co_mentions.append([neg_rev_projected[0][\"classA\"],neg_rev_projected[0][\"classB\"],neg_rev_projected[0][\"rev_intsct_count\"]])\n",
    "#     //=pd.DataFrame(rev_projected)\n",
    "#     print(comb)\n"
   ]
  },
  {
   "cell_type": "code",
   "execution_count": 78,
   "metadata": {},
   "outputs": [
    {
     "data": {
      "text/plain": [
       "110"
      ]
     },
     "execution_count": 78,
     "metadata": {},
     "output_type": "execute_result"
    }
   ],
   "source": [
    "len(neg_co_mentions)"
   ]
  },
  {
   "cell_type": "code",
   "execution_count": 79,
   "metadata": {},
   "outputs": [
    {
     "data": {
      "text/html": [
       "<div>\n",
       "<style scoped>\n",
       "    .dataframe tbody tr th:only-of-type {\n",
       "        vertical-align: middle;\n",
       "    }\n",
       "\n",
       "    .dataframe tbody tr th {\n",
       "        vertical-align: top;\n",
       "    }\n",
       "\n",
       "    .dataframe thead th {\n",
       "        text-align: right;\n",
       "    }\n",
       "</style>\n",
       "<table border=\"1\" class=\"dataframe\">\n",
       "  <thead>\n",
       "    <tr style=\"text-align: right;\">\n",
       "      <th></th>\n",
       "      <th>class1</th>\n",
       "      <th>class2</th>\n",
       "      <th>count</th>\n",
       "    </tr>\n",
       "  </thead>\n",
       "  <tbody>\n",
       "    <tr>\n",
       "      <th>1</th>\n",
       "      <td>OS</td>\n",
       "      <td>LAPTOP</td>\n",
       "      <td>264</td>\n",
       "    </tr>\n",
       "    <tr>\n",
       "      <th>15</th>\n",
       "      <td>CONNECTIVITY</td>\n",
       "      <td>LAPTOP</td>\n",
       "      <td>223</td>\n",
       "    </tr>\n",
       "    <tr>\n",
       "      <th>31</th>\n",
       "      <td>LAPTOP</td>\n",
       "      <td>DISPLAY</td>\n",
       "      <td>169</td>\n",
       "    </tr>\n",
       "    <tr>\n",
       "      <th>0</th>\n",
       "      <td>OS</td>\n",
       "      <td>CONNECTIVITY</td>\n",
       "      <td>146</td>\n",
       "    </tr>\n",
       "    <tr>\n",
       "      <th>4</th>\n",
       "      <td>OS</td>\n",
       "      <td>DISPLAY</td>\n",
       "      <td>108</td>\n",
       "    </tr>\n",
       "    <tr>\n",
       "      <th>32</th>\n",
       "      <td>LAPTOP</td>\n",
       "      <td>KEYBOARD</td>\n",
       "      <td>98</td>\n",
       "    </tr>\n",
       "    <tr>\n",
       "      <th>30</th>\n",
       "      <td>LAPTOP</td>\n",
       "      <td>PERFORMANCE</td>\n",
       "      <td>89</td>\n",
       "    </tr>\n",
       "    <tr>\n",
       "      <th>18</th>\n",
       "      <td>CONNECTIVITY</td>\n",
       "      <td>DISPLAY</td>\n",
       "      <td>84</td>\n",
       "    </tr>\n",
       "    <tr>\n",
       "      <th>34</th>\n",
       "      <td>LAPTOP</td>\n",
       "      <td>MULTIMEDIA</td>\n",
       "      <td>77</td>\n",
       "    </tr>\n",
       "    <tr>\n",
       "      <th>5</th>\n",
       "      <td>OS</td>\n",
       "      <td>KEYBOARD</td>\n",
       "      <td>74</td>\n",
       "    </tr>\n",
       "  </tbody>\n",
       "</table>\n",
       "</div>"
      ],
      "text/plain": [
       "          class1        class2  count\n",
       "1             OS        LAPTOP    264\n",
       "15  CONNECTIVITY        LAPTOP    223\n",
       "31        LAPTOP       DISPLAY    169\n",
       "0             OS  CONNECTIVITY    146\n",
       "4             OS       DISPLAY    108\n",
       "32        LAPTOP      KEYBOARD     98\n",
       "30        LAPTOP   PERFORMANCE     89\n",
       "18  CONNECTIVITY       DISPLAY     84\n",
       "34        LAPTOP    MULTIMEDIA     77\n",
       "5             OS      KEYBOARD     74"
      ]
     },
     "execution_count": 79,
     "metadata": {},
     "output_type": "execute_result"
    }
   ],
   "source": [
    " neg_co_mentioned = pd.DataFrame( neg_co_mentions,columns=[\"class1\",\"class2\",\"count\"])\n",
    "# co_mentioned.head()\n",
    "sorted_neg_co_mentioned =  neg_co_mentioned.sort_values('count', ascending=False)\n",
    "\n",
    "N=10\n",
    "sorted_neg_co_mentioned.head(N)"
   ]
  },
  {
   "cell_type": "markdown",
   "metadata": {},
   "source": [
    "<h3>Create negative co-mentioned projection of aspect classes</h3>\n",
    "<h3>then compute weighted pagerank</h3>"
   ]
  },
  {
   "cell_type": "code",
   "execution_count": 80,
   "metadata": {},
   "outputs": [],
   "source": [
    "import networkx as nx\n",
    "D=nx.DiGraph()\n",
    "D.add_weighted_edges_from(neg_co_mentions)\n",
    "neg_pagerank=nx.pagerank(D)\n",
    "\n",
    "\n",
    "# print(neg_pagerank)"
   ]
  },
  {
   "cell_type": "code",
   "execution_count": 81,
   "metadata": {},
   "outputs": [
    {
     "data": {
      "text/plain": [
       "dict"
      ]
     },
     "execution_count": 81,
     "metadata": {},
     "output_type": "execute_result"
    }
   ],
   "source": [
    "type(neg_pagerank)"
   ]
  },
  {
   "cell_type": "code",
   "execution_count": 82,
   "metadata": {},
   "outputs": [],
   "source": [
    "df_negPageRank=pd.DataFrame.from_dict(neg_pagerank,orient='index',columns=[\"rank\"])\n",
    "df_negPageRank.reset_index(level=0, inplace=True)\n",
    "df_negPageRank=df_negPageRank.rename(columns={'index':'aspect_class'})\n",
    "df_negPageRank=df_negPageRank.sort_values('rank', ascending=False)"
   ]
  },
  {
   "cell_type": "code",
   "execution_count": 83,
   "metadata": {},
   "outputs": [
    {
     "data": {
      "image/png": "[encoded data removed]",
      "text/plain": [
       "<Figure size 576x360 with 1 Axes>"
      ]
     },
     "metadata": {},
     "output_type": "display_data"
    }
   ],
   "source": [
    "import seaborn as sns\n",
    "import matplotlib.pyplot as plt\n",
    "sns.set(style=\"whitegrid\")\n",
    "\n",
    "\n",
    "# Initialize the matplotlib figure\n",
    "f, ax = plt.subplots(figsize=(8, 5))\n",
    "\n",
    "\n",
    "# Plot the total crashes\n",
    "sns.set_color_codes(\"pastel\")\n",
    "sns.barplot(x=\"rank\", y=\"aspect_class\", data=df_negPageRank,\n",
    "            label=\"Total\", color=\"b\")\n",
    "\n",
    "\n",
    "# Add a legend and informative axis label\n",
    "ax.legend(ncol=2, loc=\"lower right\", frameon=True)\n",
    "# ax.set(xlim=(0, 1), ylabel=\"aspect classes\", xlabel=\"Aspect class rank score (negative co-mentions) \")\n",
    "ax.set(ylabel=\"aspect classes\", xlabel=\"Aspect class rank score (negative co-mentions) \")\n",
    "sns.despine(left=True, bottom=True)"
   ]
  },
  {
   "cell_type": "markdown",
   "metadata": {},
   "source": [
    "dd=pd.DataFrame(\n",
    "[\n",
    "['CONNECTIVITY', 0.024816891638914033],\n",
    " ['DISPLAY', 0.02698565012997087],\n",
    " ['SHIPPING', 0.025105722407523946],\n",
    " ['HARDDRIVE', 0.02724380807013692],\n",
    " ['CPU', 0.026713666999741606],\n",
    " ['MULTIMEDIA', 0.03371812833562775],\n",
    " ['OPTICAL_DRIVE', 0.026218567538212743],\n",
    " ['FAN', 0.031075395847498504],\n",
    " ['CHARGER', 0.026549134916688914],\n",
    " ['PERFORMANCE', 0.049653105376496205],\n",
    " ['BATTERY', 0.0519322981713498],\n",
    " ['KEYBOARD', 0.061616463789575415],\n",
    " ['MEMORY', 0.05102677552972876],\n",
    " ['OS', 0.12329533573094356],\n",
    " ['MOTHERBOARD',0.025058499734221088],\n",
    " ['SUPPORT',0.06912429432291131],\n",
    " ['LAPTOP',0.31986626146045866]\n",
    "], columns=[\"Aspect class\",\"ClassRank\"])"
   ]
  },
  {
   "cell_type": "markdown",
   "metadata": {},
   "source": [
    "<H2>Top N postive co-mentoins</H2>"
   ]
  },
  {
   "cell_type": "code",
   "execution_count": 84,
   "metadata": {},
   "outputs": [],
   "source": [
    "pos_co_mentions=[]\n",
    "\n",
    "id_pairs=combinations(id_list, 2)\n",
    "for comb in id_pairs:\n",
    "    c=list(comb)\n",
    "    class1_id= c[0]\n",
    "    class2_id=c[1]\n",
    "#     print(class1_id,class2_id)\n",
    "    pos_rev_projected =  G.run('''//class projection\n",
    "    MATCH \n",
    "     (class1:Class)<-[:BELONGS_TO]-(key1:Keyword)<-[o1:HAS_OPINION_ON]-(sent1:Sentence)<-[:HAS_SENTENCE]-(rev:Review)-[:HAS_SENTENCE]->(sent2:Sentence)- [o2:HAS_OPINION_ON]->(key2:Keyword)-[:BELONGS_TO]-> (class2:Class)\n",
    "    WHERE ID(class1)=$class1_id and ID(class2)=$class2_id and o1.polarity>0 and o2.polarity>0\n",
    "    WITH class1,class2,count(DISTINCT(rev)) as rev_intsct_count\n",
    "    return class1.name as classA,class2.name as classB,rev_intsct_count\n",
    "       //return  rev.review_id,o.polarity,class.name\n",
    "     ''', parameters={'class1_id':class1_id, \"class2_id\":class2_id}).data()\n",
    "    if len(pos_rev_projected)>0:\n",
    "        \n",
    "#         print([rev_projected[0][\"classA\"],rev_projected[0][\"classB\"],rev_projected[0][\"rev_intsct_count\"]])\n",
    "        \n",
    "        pos_co_mentions.append([pos_rev_projected[0][\"classA\"],pos_rev_projected[0][\"classB\"],pos_rev_projected[0][\"rev_intsct_count\"]])\n",
    "#     //=pd.DataFrame(rev_projected)\n",
    "#     print(comb)\n"
   ]
  },
  {
   "cell_type": "code",
   "execution_count": 85,
   "metadata": {},
   "outputs": [
    {
     "data": {
      "text/plain": [
       "118"
      ]
     },
     "execution_count": 85,
     "metadata": {},
     "output_type": "execute_result"
    }
   ],
   "source": [
    "len(pos_co_mentions)"
   ]
  },
  {
   "cell_type": "code",
   "execution_count": 86,
   "metadata": {},
   "outputs": [],
   "source": [
    "pos_co_mentioned = pd.DataFrame( pos_co_mentions,columns=[\"class1\",\"class2\",\"count\"])\n",
    "# co_mentioned.head()\n",
    "sorted_pos_co_mentioned =  pos_co_mentioned.sort_values('count', ascending=False)\n",
    "# sorted_pos_co_mentioned.head(10)"
   ]
  },
  {
   "cell_type": "code",
   "execution_count": 87,
   "metadata": {},
   "outputs": [],
   "source": [
    "Dp=nx.DiGraph()\n",
    "Dp.add_weighted_edges_from(pos_co_mentions)\n",
    "pos_pagerank=nx.pagerank(Dp)\n",
    "\n",
    "# pos_pagerank"
   ]
  },
  {
   "cell_type": "code",
   "execution_count": 88,
   "metadata": {},
   "outputs": [],
   "source": [
    "df_pos_pagerank=pd.DataFrame.from_dict(pos_pagerank,orient='index',columns=[\"rank\"])\n",
    "# df_negPageRank['aspect_class']=df_negPageRank.index\n",
    "df_pos_pagerank.reset_index(level=0, inplace=True)\n",
    "df_pos_pagerank=df_pos_pagerank.rename(columns={'index':'aspect_class'})\n",
    "df_pos_pagerank=df_pos_pagerank.sort_values('rank', ascending=False)"
   ]
  },
  {
   "cell_type": "code",
   "execution_count": 89,
   "metadata": {},
   "outputs": [
    {
     "data": {
      "image/png": "[encoded data removed]",
      "text/plain": [
       "<Figure size 576x360 with 1 Axes>"
      ]
     },
     "metadata": {},
     "output_type": "display_data"
    }
   ],
   "source": [
    "import seaborn as sns\n",
    "import matplotlib.pyplot as plt\n",
    "sns.set(style=\"whitegrid\")\n",
    "\n",
    "\n",
    "# Initialize the matplotlib figure\n",
    "f, ax = plt.subplots(figsize=(8, 5))\n",
    "\n",
    "# data=df_all_pagerank\n",
    "\n",
    "# Plot the total crashes\n",
    "sns.set_color_codes(\"pastel\")\n",
    "sns.barplot(x=\"rank\", y=\"aspect_class\", data=df_pos_pagerank,\n",
    "            label=\"Total\", color=\"b\")\n",
    "\n",
    "\n",
    "# Add a legend and informative axis label\n",
    "ax.legend(ncol=2, loc=\"lower right\", frameon=True)\n",
    "ax.set(ylabel=\"aspect classes\", xlabel=\"Aspect class rank score (positive co-mentions) \")\n",
    "# ax.set(xlim=(0, 1), ylabel=\"aspect classes\", xlabel=\"Aspect class rank score (positive co-mentions) \")\n",
    "sns.despine(left=True, bottom=True)"
   ]
  },
  {
   "cell_type": "code",
   "execution_count": null,
   "metadata": {
    "collapsed": true
   },
   "outputs": [],
   "source": []
  },
  {
   "cell_type": "code",
   "execution_count": null,
   "metadata": {
    "collapsed": true
   },
   "outputs": [],
   "source": []
  },
  {
   "cell_type": "code",
   "execution_count": null,
   "metadata": {
    "collapsed": true
   },
   "outputs": [],
   "source": []
  },
  {
   "cell_type": "code",
   "execution_count": null,
   "metadata": {
    "collapsed": true
   },
   "outputs": [],
   "source": []
  }
 ],
 "metadata": {
  "kernelspec": {
   "display_name": "Python 3",
   "language": "python",
   "name": "python3"
  },
  "language_info": {
   "codemirror_mode": {
    "name": "ipython",
    "version": 3
   },
   "file_extension": ".py",
   "mimetype": "text/x-python",
   "name": "python",
   "nbconvert_exporter": "python",
   "pygments_lexer": "ipython3",
   "version": "3.8.5"
  }
 },
 "nbformat": 4,
 "nbformat_minor": 4
}
